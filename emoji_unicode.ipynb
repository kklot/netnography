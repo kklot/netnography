{
 "cells": [
  {
   "cell_type": "code",
   "execution_count": 2,
   "metadata": {},
   "outputs": [],
   "source": [
    "import sys, os\n",
    "from bs4 import BeautifulSoup\n",
    "from urllib.request import Request, urlopen\n",
    "import urllib, requests, csv, pandas, re, numpy\n",
    "\n",
    "hdr = {'User-Agent': 'Mozilla/5.0 (Windows NT 6.1; Win64; x64; rv:47.0) Gecko/20100101 Firefox/47.0',\n",
    "       'Accept': 'text/html,application/xhtml+xml,application/xml;q=0.9,*/*;q=0.8',\n",
    "       'Accept-Charset': 'ISO-8859-1,utf-8;q=0.7,*;q=0.3',\n",
    "       'Accept-Encoding': 'none',\n",
    "       'Accept-Language': 'en-US,en;q=0.8',\n",
    "       'Connection': 'keep-alive'}"
   ]
  },
  {
   "cell_type": "code",
   "execution_count": 3,
   "metadata": {},
   "outputs": [],
   "source": [
    "baseurl = \"https://unicode.org/emoji/charts/emoji-list.html\"\n",
    "req = Request(baseurl, data = None, headers=hdr)\n",
    "page = urlopen(req)\n",
    "soup = BeautifulSoup(page)"
   ]
  },
  {
   "cell_type": "code",
   "execution_count": 4,
   "metadata": {},
   "outputs": [],
   "source": [
    "code = [i.get_text() for i in soup.find_all(attrs={\"class\": \"code\"})]\n",
    "smiley = [i.get(\"alt\") for i in soup.find_all(attrs={\"class\": \"imga\"})]\n",
    "CLDRPlus = soup.find_all(attrs={\"class\": \"name\"})\n",
    "CLDR = [CLDRPlus[i].text for i in range(0, len(CLDRPlus), 2)]\n",
    "kw = [CLDRPlus[i].text for i in range(1, len(CLDRPlus), 2)]"
   ]
  },
  {
   "cell_type": "code",
   "execution_count": 5,
   "metadata": {},
   "outputs": [],
   "source": [
    "pandas.DataFrame({\n",
    "    'code': code, \n",
    "    'smiley': smiley, \n",
    "    'CLDR': CLDR, \n",
    "    'keywords': kw\n",
    "    }).to_csv('emoji_unicode.csv')"
   ]
  }
 ],
 "metadata": {
  "kernelspec": {
   "display_name": "base",
   "language": "python",
   "name": "python3"
  },
  "language_info": {
   "codemirror_mode": {
    "name": "ipython",
    "version": 3
   },
   "file_extension": ".py",
   "mimetype": "text/x-python",
   "name": "python",
   "nbconvert_exporter": "python",
   "pygments_lexer": "ipython3",
   "version": "3.9.12"
  },
  "orig_nbformat": 4,
  "vscode": {
   "interpreter": {
    "hash": "3de909208fe0da4fb04b184b878de89f81bf74bdc4aebd16a8eb9dffcd0f9c99"
   }
  }
 },
 "nbformat": 4,
 "nbformat_minor": 2
}
