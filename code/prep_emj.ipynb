{
 "cells": [
  {
   "cell_type": "markdown",
   "metadata": {},
   "source": [
    "## Packages"
   ]
  },
  {
   "cell_type": "code",
   "execution_count": 1,
   "metadata": {
    "tags": [],
    "vscode": {
     "languageId": "r"
    }
   },
   "outputs": [
    {
     "name": "stderr",
     "output_type": "stream",
     "text": [
      "here() starts at /Users/knguyen/Documents/WIP/Papers/Astrid\n",
      "\n",
      "── \u001b[1mAttaching packages\u001b[22m ─────────────────────────────────────── tidyverse 1.3.2 ──\n",
      "\u001b[32m✔\u001b[39m \u001b[34mtibble \u001b[39m 3.1.8      \u001b[32m✔\u001b[39m \u001b[34mdplyr  \u001b[39m 1.0.10\n",
      "\u001b[32m✔\u001b[39m \u001b[34mtidyr  \u001b[39m 1.2.1      \u001b[32m✔\u001b[39m \u001b[34mstringr\u001b[39m 1.5.0 \n",
      "\u001b[32m✔\u001b[39m \u001b[34mreadr  \u001b[39m 2.1.3      \u001b[32m✔\u001b[39m \u001b[34mforcats\u001b[39m 0.5.2 \n",
      "\u001b[32m✔\u001b[39m \u001b[34mpurrr  \u001b[39m 1.0.1      \n",
      "── \u001b[1mConflicts\u001b[22m ────────────────────────────────────────── tidyverse_conflicts() ──\n",
      "\u001b[31m✖\u001b[39m \u001b[34mdplyr\u001b[39m::\u001b[32mfilter()\u001b[39m masks \u001b[34mstats\u001b[39m::filter()\n",
      "\u001b[31m✖\u001b[39m \u001b[34mdplyr\u001b[39m::\u001b[32mlag()\u001b[39m    masks \u001b[34mstats\u001b[39m::lag()\n",
      "Finding a python executable with spaCy installed...\n",
      "\n",
      "spaCy (language model: en_core_web_trf) is installed in more than one python\n",
      "\n",
      "spacyr will use /Users/knguyen/opt/miniconda3/bin/python (because ask = FALSE)\n",
      "\n",
      "successfully initialized (spaCy Version: 3.3.1, language model: en_core_web_trf)\n",
      "\n",
      "(python options: type = \"python_executable\", value = \"/Users/knguyen/opt/miniconda3/bin/python\")\n",
      "\n",
      "\n",
      "Attaching package: ‘magrittr’\n",
      "\n",
      "\n",
      "The following object is masked from ‘package:purrr’:\n",
      "\n",
      "    set_names\n",
      "\n",
      "\n",
      "The following object is masked from ‘package:tidyr’:\n",
      "\n",
      "    extract\n",
      "\n",
      "\n",
      "\u001b[1m\u001b[22m\u001b[36mℹ\u001b[39m Loading \u001b[34mktools\u001b[39m\n",
      "\u001b[36mℹ\u001b[39m Re-compiling \u001b[34m\u001b[34mktools\u001b[34m\u001b[39m (debug build)\n",
      "\n"
     ]
    },
    {
     "name": "stdout",
     "output_type": "stream",
     "text": [
      "\u001b[36m──\u001b[39m \u001b[36mR CMD INSTALL\u001b[39m \u001b[36m───────────────────────────────────────────────────────────────\u001b[39m\n",
      "* installing *source* package ‘ktools’ ...\n",
      "** using staged installation\n",
      "** libs\n",
      "Warning: no source files found\n",
      "* DONE (ktools)\n"
     ]
    },
    {
     "name": "stderr",
     "output_type": "stream",
     "text": [
      "Package version: 3.2.3\n",
      "Unicode version: 14.0\n",
      "ICU version: 71.1\n",
      "\n",
      "Parallel computing: 8 of 8 threads used.\n",
      "\n",
      "See https://quanteda.io for tutorials and examples.\n",
      "\n"
     ]
    }
   ],
   "source": [
    "library(here)\n",
    "library(tidyverse)\n",
    "library(stringr)\n",
    "library(readr)\n",
    "library(writexl)\n",
    "library(\"stopwords\")\n",
    "devtools::load_all(\"~/Code/R/ktools/\")"
   ]
  },
  {
   "cell_type": "markdown",
   "metadata": {},
   "source": [
    "Only needed for German"
   ]
  },
  {
   "cell_type": "code",
   "execution_count": 2,
   "metadata": {
    "tags": [],
    "vscode": {
     "languageId": "r"
    }
   },
   "outputs": [
    {
     "data": {
      "text/html": [
       "'C/UTF-8/C/C/C/C'"
      ],
      "text/latex": [
       "'C/UTF-8/C/C/C/C'"
      ],
      "text/markdown": [
       "'C/UTF-8/C/C/C/C'"
      ],
      "text/plain": [
       "[1] \"C/UTF-8/C/C/C/C\""
      ]
     },
     "metadata": {},
     "output_type": "display_data"
    },
    {
     "data": {
      "text/html": [
       "'de_DE.UTF-8/de_DE.UTF-8/de_DE.UTF-8/C/de_DE.UTF-8/C'"
      ],
      "text/latex": [
       "'de\\_DE.UTF-8/de\\_DE.UTF-8/de\\_DE.UTF-8/C/de\\_DE.UTF-8/C'"
      ],
      "text/markdown": [
       "'de_DE.UTF-8/de_DE.UTF-8/de_DE.UTF-8/C/de_DE.UTF-8/C'"
      ],
      "text/plain": [
       "[1] \"de_DE.UTF-8/de_DE.UTF-8/de_DE.UTF-8/C/de_DE.UTF-8/C\""
      ]
     },
     "metadata": {},
     "output_type": "display_data"
    },
    {
     "data": {
      "text/html": [
       "'de_DE.UTF-8/de_DE.UTF-8/de_DE.UTF-8/C/de_DE.UTF-8/C'"
      ],
      "text/latex": [
       "'de\\_DE.UTF-8/de\\_DE.UTF-8/de\\_DE.UTF-8/C/de\\_DE.UTF-8/C'"
      ],
      "text/markdown": [
       "'de_DE.UTF-8/de_DE.UTF-8/de_DE.UTF-8/C/de_DE.UTF-8/C'"
      ],
      "text/plain": [
       "[1] \"de_DE.UTF-8/de_DE.UTF-8/de_DE.UTF-8/C/de_DE.UTF-8/C\""
      ]
     },
     "metadata": {},
     "output_type": "display_data"
    }
   ],
   "source": [
    "Sys.getlocale()\n",
    "Sys.setlocale(\"LC_ALL\", \"de_DE.UTF-8\")\n",
    "Sys.getlocale()"
   ]
  },
  {
   "cell_type": "markdown",
   "metadata": {
    "jp-MarkdownHeadingCollapsed": true,
    "tags": []
   },
   "source": [
    "## Forum data"
   ]
  },
  {
   "cell_type": "markdown",
   "metadata": {},
   "source": [
    "Combine forum texts"
   ]
  },
  {
   "cell_type": "code",
   "execution_count": null,
   "metadata": {
    "vscode": {
     "languageId": "r"
    }
   },
   "outputs": [],
   "source": [
    "forum <- purrr::map_dfr(\n",
    "    list.files(\"~/Documents/WIP/Papers/Astrid/data/new/\", full.names = 1), \n",
    "    read_csv, col_select = -1, show_col_types = FALSE\n",
    ")"
   ]
  },
  {
   "cell_type": "markdown",
   "metadata": {},
   "source": [
    "Rearrange by post ID"
   ]
  },
  {
   "cell_type": "code",
   "execution_count": 12,
   "metadata": {
    "vscode": {
     "languageId": "r"
    }
   },
   "outputs": [],
   "source": [
    "forum %<>% \n",
    "    mutate(id = gsub(\"post_message_(.*)\", \"\\\\1\", mid)) %>%\n",
    "    arrange(id)"
   ]
  },
  {
   "cell_type": "markdown",
   "metadata": {},
   "source": [
    "### Emoji"
   ]
  },
  {
   "cell_type": "markdown",
   "metadata": {},
   "source": [
    "List of emoji [from the forum](https://bfriends.brigitte.de/foren/misc.php)."
   ]
  },
  {
   "cell_type": "code",
   "execution_count": 384,
   "metadata": {
    "vscode": {
     "languageId": "r"
    }
   },
   "outputs": [
    {
     "name": "stdout",
     "output_type": "stream",
     "text": [
      "Rows: 69\n",
      "Columns: 3\n",
      "$ `:smile:` \u001b[3m\u001b[90m<chr>\u001b[39m\u001b[23m \":ooooh:\", \":kuss:\", \":lachen:\", \":peinlich:\", \":niedergesch…\n",
      "$ Smile     \u001b[3m\u001b[90m<chr>\u001b[39m\u001b[23m \"Ooooh\", \"Kuss\", \"Lachen\", \"Peinlich\", \"Niedergeschmettert\",…\n",
      "$ smile     \u001b[3m\u001b[90m<chr>\u001b[39m\u001b[23m \"ooooh\", \"kiss\", \"laugh\", \"embarrassed\", \"crushed\", \"offende…\n"
     ]
    }
   ],
   "source": [
    "emoji_ls <- read_csv('https://raw.githubusercontent.com/kklot/netnography/main/emoticons.csv', show_col_types = FALSE)\n",
    "emoji_ls %>% glimpse"
   ]
  },
  {
   "cell_type": "markdown",
   "metadata": {},
   "source": [
    "Emoji recode to UTF-8"
   ]
  },
  {
   "cell_type": "code",
   "execution_count": 209,
   "metadata": {
    "vscode": {
     "languageId": "r"
    }
   },
   "outputs": [],
   "source": [
    "emj_try <- function(x) {\n",
    "    o <- tryCatch(emoji::emoji(x), error = function(e) e)\n",
    "    if (inherits(o, \"error\")) o <- \"TBD\"\n",
    "    o\n",
    "}"
   ]
  },
  {
   "cell_type": "code",
   "execution_count": 329,
   "metadata": {
    "vscode": {
     "languageId": "r"
    }
   },
   "outputs": [],
   "source": [
    "emoji_ls %>% \n",
    "rename_with(~char(shortcode, title, meaning)) %>%\n",
    "select(-title) %>%\n",
    "mutate(\n",
    "    meaning = str_replace_all(meaning, '\\\\s', '_'),\n",
    "    meaning = case_when(\n",
    "        meaning == \"kiss\" ~ 'kissing_face_with_closed_eyes', \n",
    "        meaning == \"ooooh\" ~ 'astonished', \n",
    "        meaning == \"embarrassed\" ~ 'flushed', \n",
    "        meaning == \"crushed\" ~ 'anguished_face', \n",
    "        meaning == \"offended\" ~ 'unamused_face', \n",
    "        meaning == \"grump\" ~ 'angry', \n",
    "        meaning == \"smack\" ~ 'face_with_diagonal_mouth', \n",
    "        meaning == \"cool\" ~ 'smiling_face_with_sunglasses', \n",
    "        meaning == \"smirksmile\" ~ 'smirking_face', \n",
    "        meaning == \"flower\" ~ 'tulip', \n",
    "        meaning == \"cheeky_grin\" ~ 'beaming_face_with_smiling_eyes', \n",
    "        meaning == \"submission\" ~ 'roll_eyes', \n",
    "        meaning == \"ahoy\" ~ 'waving_hand', \n",
    "        meaning == \"cheer\" ~ 'clinking_glasses', \n",
    "        meaning == \"everything_o.k.\" ~ 'ok_hand', \n",
    "        meaning == \"musician\" ~ 'partying_face', \n",
    "        meaning == \"yeah\" ~ 'stuck_out_tongue', \n",
    "        meaning == \"santa_claus\" ~ 'santa', \n",
    "        meaning == \"snow_santa_claus\" ~ 'santa', \n",
    "        meaning == \"sun\" ~ 'sun_with_face', \n",
    "        meaning == \"crown_on\" ~ 'person_with_crown', \n",
    "        meaning == \"engel\" ~ 'smiling_face_with_halo', \n",
    "        meaning == \"against_the_wall\" ~ 'person_facepalming', \n",
    "        meaning == \"cheek_kiss\" ~ 'kissing_face_with_smiling_eyes', \n",
    "        meaning == \"relax\" ~ 'smiling_face', \n",
    "        meaning == \"book_reading\" ~ 'open_book', \n",
    "        meaning == \"embrace\" ~ 'people_hugging', \n",
    "        meaning == \"how.\" ~ 'confused_face', \n",
    "        meaning == \"toothache\" ~ 'face_with_head_bandage', \n",
    "        meaning == \"hunger\" ~ 'face_savoring_food', \n",
    "        meaning == \"white_candle\" ~ 'candle', \n",
    "        meaning == \"whistling\" ~ 'kissing_face', # double meaning emoji\n",
    "        meaning == \"sleep_well\" ~ 'sleeping_face',\n",
    "        meaning == \"pc_broken\" ~ 'angry_face',\n",
    "        meaning == \"easter_miley\" ~ 'hatching_chick',\n",
    "        meaning == \"easter_bunny\" ~ 'rabbit_face',\n",
    "        meaning == \"sign_no\" ~ 'thumbs_down',\n",
    "        meaning == \"sign_exactly\" ~ 'thumbs_up',\n",
    "        meaning == \"fluestertuete\" ~ 'loudspeaker',\n",
    "        meaning == \"rolling_pin\" ~ 'pouting_face',\n",
    "        meaning == \"aetsch\" ~ 'squinting_face_with_tongue',\n",
    "        meaning == \"cheeky_grinning_angel\" ~ 'beaming_face_with_smiling_eyes',\n",
    "        meaning == \"football_girl\" ~ 'soccer_ball',\n",
    "        meaning == \"laughing_tears\" ~ 'face_with_tears_of_joy',\n",
    "        meaning == \"knitting\" ~ 'yarn',\n",
    "        meaning == \"wipe_sweat_from_forehead\" ~ 'anxious_face_with_sweat',\n",
    "        meaning == \"sign_...oops\" ~ 'face_with_hand_over_mouth',\n",
    "        meaning == \"cup_clown\" ~ 'hot_beverage',\n",
    "        meaning == \"enlightenment\" ~ 'light_bulb',\n",
    "        meaning == \"flower_gift\" ~ 'gift',\n",
    "        meaning == \"knicks\" ~ 'woman_bowing',\n",
    "        otherwise ~ meaning\n",
    "    ),\n",
    "    emoji = map_chr(meaning, emj_try)\n",
    ") %>% \n",
    "allot(emoji_converted)"
   ]
  },
  {
   "cell_type": "markdown",
   "metadata": {},
   "source": [
    "Add one missing (quite strange)"
   ]
  },
  {
   "cell_type": "code",
   "execution_count": 394,
   "metadata": {
    "vscode": {
     "languageId": "r"
    }
   },
   "outputs": [],
   "source": [
    "emoji_converted %<>% \n",
    "bind_rows(\n",
    "    tibble(\n",
    "    shortcode = c(\":joy:\", \":persevere:\", \":dankbar:\"), \n",
    "    meaning = c(\"joy\", \"persevere\", \"thankful\"), \n",
    "    emoji = c(emoji::emoji('joy'), emoji::emoji('persevere'), emoji::emoji('folded_hands'))\n",
    ")) %>% distinct()\n",
    "\n",
    "write_csv(emoji_converted, 'emoji_converted.csv')"
   ]
  },
  {
   "cell_type": "markdown",
   "metadata": {},
   "source": [
    "Replace shortcode with emoji"
   ]
  },
  {
   "cell_type": "code",
   "execution_count": 364,
   "metadata": {
    "vscode": {
     "languageId": "r"
    }
   },
   "outputs": [
    {
     "data": {
      "text/html": [
       "<style>\n",
       ".list-inline {list-style: none; margin:0; padding: 0}\n",
       ".list-inline>li {display: inline-block}\n",
       ".list-inline>li:not(:last-child)::after {content: \"\\00b7\"; padding: 0 .5ex}\n",
       "</style>\n",
       "<ol class=list-inline><li>':zwinker:'</li><li>':knatsch:'</li><li>':ooooh:'</li><li>':blumengabe:'</li><li>':unterwerf:'</li><li>':smirksmile:'</li><li>':liebe:'</li><li>':pfeifend:'</li><li>':zauberer:'</li><li>':jubel:'</li><li>':erleuchtung:'</li><li>':smile:'</li><li>':heul:'</li><li>':niedergeschmettert:'</li><li>':beleidigt:'</li><li>':engel:'</li><li>':yeah:'</li><li>':peinlich:'</li><li>':blume:'</li><li>':aetsch:'</li><li>':lachen:'</li><li>':grmpf:'</li><li>':sonne:'</li><li>':teufelchen:'</li><li>':wangenkuss:'</li><li>':zahnschmerzen:'</li><li>':nudelholz:'</li><li>':krank:'</li><li>':kristallkugel:'</li><li>':regen:'</li><li>':schneemann:'</li><li>':joy:'</li><li>':ahoi:'</li><li>':musiker:'</li><li>':persevere:'</li><li>':kuss:'</li><li>':halloween:'</li><li>':tassenkasper:'</li><li>':cool:'</li><li>':osterhase:'</li><li>':prost:'</li><li>':hund:'</li><li>':kerze:'</li><li>':nikolaus:'</li><li>':entspann:'</li><li>':knicks:'</li><li>':hunger:'</li><li>':fluestertuete:'</li><li>':dankbar:'</li></ol>\n"
      ],
      "text/latex": [
       "\\begin{enumerate*}\n",
       "\\item ':zwinker:'\n",
       "\\item ':knatsch:'\n",
       "\\item ':ooooh:'\n",
       "\\item ':blumengabe:'\n",
       "\\item ':unterwerf:'\n",
       "\\item ':smirksmile:'\n",
       "\\item ':liebe:'\n",
       "\\item ':pfeifend:'\n",
       "\\item ':zauberer:'\n",
       "\\item ':jubel:'\n",
       "\\item ':erleuchtung:'\n",
       "\\item ':smile:'\n",
       "\\item ':heul:'\n",
       "\\item ':niedergeschmettert:'\n",
       "\\item ':beleidigt:'\n",
       "\\item ':engel:'\n",
       "\\item ':yeah:'\n",
       "\\item ':peinlich:'\n",
       "\\item ':blume:'\n",
       "\\item ':aetsch:'\n",
       "\\item ':lachen:'\n",
       "\\item ':grmpf:'\n",
       "\\item ':sonne:'\n",
       "\\item ':teufelchen:'\n",
       "\\item ':wangenkuss:'\n",
       "\\item ':zahnschmerzen:'\n",
       "\\item ':nudelholz:'\n",
       "\\item ':krank:'\n",
       "\\item ':kristallkugel:'\n",
       "\\item ':regen:'\n",
       "\\item ':schneemann:'\n",
       "\\item ':joy:'\n",
       "\\item ':ahoi:'\n",
       "\\item ':musiker:'\n",
       "\\item ':persevere:'\n",
       "\\item ':kuss:'\n",
       "\\item ':halloween:'\n",
       "\\item ':tassenkasper:'\n",
       "\\item ':cool:'\n",
       "\\item ':osterhase:'\n",
       "\\item ':prost:'\n",
       "\\item ':hund:'\n",
       "\\item ':kerze:'\n",
       "\\item ':nikolaus:'\n",
       "\\item ':entspann:'\n",
       "\\item ':knicks:'\n",
       "\\item ':hunger:'\n",
       "\\item ':fluestertuete:'\n",
       "\\item ':dankbar:'\n",
       "\\end{enumerate*}\n"
      ],
      "text/markdown": [
       "1. ':zwinker:'\n",
       "2. ':knatsch:'\n",
       "3. ':ooooh:'\n",
       "4. ':blumengabe:'\n",
       "5. ':unterwerf:'\n",
       "6. ':smirksmile:'\n",
       "7. ':liebe:'\n",
       "8. ':pfeifend:'\n",
       "9. ':zauberer:'\n",
       "10. ':jubel:'\n",
       "11. ':erleuchtung:'\n",
       "12. ':smile:'\n",
       "13. ':heul:'\n",
       "14. ':niedergeschmettert:'\n",
       "15. ':beleidigt:'\n",
       "16. ':engel:'\n",
       "17. ':yeah:'\n",
       "18. ':peinlich:'\n",
       "19. ':blume:'\n",
       "20. ':aetsch:'\n",
       "21. ':lachen:'\n",
       "22. ':grmpf:'\n",
       "23. ':sonne:'\n",
       "24. ':teufelchen:'\n",
       "25. ':wangenkuss:'\n",
       "26. ':zahnschmerzen:'\n",
       "27. ':nudelholz:'\n",
       "28. ':krank:'\n",
       "29. ':kristallkugel:'\n",
       "30. ':regen:'\n",
       "31. ':schneemann:'\n",
       "32. ':joy:'\n",
       "33. ':ahoi:'\n",
       "34. ':musiker:'\n",
       "35. ':persevere:'\n",
       "36. ':kuss:'\n",
       "37. ':halloween:'\n",
       "38. ':tassenkasper:'\n",
       "39. ':cool:'\n",
       "40. ':osterhase:'\n",
       "41. ':prost:'\n",
       "42. ':hund:'\n",
       "43. ':kerze:'\n",
       "44. ':nikolaus:'\n",
       "45. ':entspann:'\n",
       "46. ':knicks:'\n",
       "47. ':hunger:'\n",
       "48. ':fluestertuete:'\n",
       "49. ':dankbar:'\n",
       "\n",
       "\n"
      ],
      "text/plain": [
       " [1] \":zwinker:\"            \":knatsch:\"            \":ooooh:\"             \n",
       " [4] \":blumengabe:\"         \":unterwerf:\"          \":smirksmile:\"        \n",
       " [7] \":liebe:\"              \":pfeifend:\"           \":zauberer:\"          \n",
       "[10] \":jubel:\"              \":erleuchtung:\"        \":smile:\"             \n",
       "[13] \":heul:\"               \":niedergeschmettert:\" \":beleidigt:\"         \n",
       "[16] \":engel:\"              \":yeah:\"               \":peinlich:\"          \n",
       "[19] \":blume:\"              \":aetsch:\"             \":lachen:\"            \n",
       "[22] \":grmpf:\"              \":sonne:\"              \":teufelchen:\"        \n",
       "[25] \":wangenkuss:\"         \":zahnschmerzen:\"      \":nudelholz:\"         \n",
       "[28] \":krank:\"              \":kristallkugel:\"      \":regen:\"             \n",
       "[31] \":schneemann:\"         \":joy:\"                \":ahoi:\"              \n",
       "[34] \":musiker:\"            \":persevere:\"          \":kuss:\"              \n",
       "[37] \":halloween:\"          \":tassenkasper:\"       \":cool:\"              \n",
       "[40] \":osterhase:\"          \":prost:\"              \":hund:\"              \n",
       "[43] \":kerze:\"              \":nikolaus:\"           \":entspann:\"          \n",
       "[46] \":knicks:\"             \":hunger:\"             \":fluestertuete:\"     \n",
       "[49] \":dankbar:\"           "
      ]
     },
     "metadata": {},
     "output_type": "display_data"
    }
   ],
   "source": [
    "used_emj <- lapply(forum$text, str_match_all, pattern = ':[a-z]*:') %>% \n",
    "unlist %>% unique %>% str_subset('^N|::', negate = T)\n",
    "used_emj"
   ]
  },
  {
   "cell_type": "code",
   "execution_count": 395,
   "metadata": {
    "vscode": {
     "languageId": "r"
    }
   },
   "outputs": [
    {
     "name": "stdout",
     "output_type": "stream",
     "text": [
      "Try  :dankbar: 🙏 e: 📢 : 😧 \r"
     ]
    }
   ],
   "source": [
    "forum$text2 <- forum$text\n",
    "for (i in 1:length(used_emj)) {\n",
    "    id <- which(tolower(emoji_converted$shortcode) == used_emj[i])\n",
    "    cat('Try ', used_emj[i], emoji_converted$emoji[id], \"\\r\")\n",
    "    flush.console()\n",
    "    forum$text2 <- sapply(\n",
    "        forum$text2, \n",
    "        str_replace_all, \n",
    "        pattern = used_emj[i], \n",
    "        replacement = emoji_converted$emoji[id]\n",
    "        )\n",
    "}"
   ]
  },
  {
   "cell_type": "code",
   "execution_count": 399,
   "metadata": {
    "vscode": {
     "languageId": "r"
    }
   },
   "outputs": [
    {
     "data": {
      "text/html": [
       "<table class=\"dataframe\">\n",
       "<caption>A tibble: 3 × 9</caption>\n",
       "<thead>\n",
       "\t<tr><th scope=col>user</th><th scope=col>date</th><th scope=col>time</th><th scope=col>mid</th><th scope=col>text</th><th scope=col>user_quoted</th><th scope=col>quoted_text</th><th scope=col>id</th><th scope=col>text2</th></tr>\n",
       "\t<tr><th scope=col>&lt;chr&gt;</th><th scope=col>&lt;chr&gt;</th><th scope=col>&lt;time&gt;</th><th scope=col>&lt;chr&gt;</th><th scope=col>&lt;chr&gt;</th><th scope=col>&lt;chr&gt;</th><th scope=col>&lt;chr&gt;</th><th scope=col>&lt;chr&gt;</th><th scope=col>&lt;chr&gt;</th></tr>\n",
       "</thead>\n",
       "<tbody>\n",
       "\t<tr><td>BRIGITTE Community-Team</td><td>02.06.2020, </td><td>13:24:00</td><td>post_message_34705014</td><td>Liebe User*innen, neben Fragen der Kinderbetreuung, Kitas oder Home-Schooling soll hier auch Platz für weitere Familienthemen wie z.B. den Umgang mit An gehörigen in Seniorenheimen sein. Hier können Sie sehen, welchen bisherigen Themen in diesem neuen Thema aufgehen Wir wünschen Ihnen spannende Diskussionen. Viele Grüße vom BRIGITTE Community-Team</td><td>NA</td><td>NA</td><td>34705014</td><td>Liebe User*innen, neben Fragen der Kinderbetreuung, Kitas oder Home-Schooling soll hier auch Platz für weitere Familienthemen wie z.B. den Umgang mit An gehörigen in Seniorenheimen sein. Hier können Sie sehen, welchen bisherigen Themen in diesem neuen Thema aufgehen Wir wünschen Ihnen spannende Diskussionen. Viele Grüße vom BRIGITTE Community-Team</td></tr>\n",
       "\t<tr><td>BRIGITTE Community-Team</td><td>02.06.2020, </td><td>15:19:00</td><td>post_message_34705172</td><td>Da das Thema durch den Umbau weiter nach hinten gerutscht ist, schieben wir es auf diesem Weg wieder nach vorne. Wir wünschen Ihnen spannende Diskussionen. Viele Grüße vom BRIGITTE Community-Team                                                                                                                                                          </td><td>NA</td><td>NA</td><td>34705172</td><td>Da das Thema durch den Umbau weiter nach hinten gerutscht ist, schieben wir es auf diesem Weg wieder nach vorne. Wir wünschen Ihnen spannende Diskussionen. Viele Grüße vom BRIGITTE Community-Team                                                                                                                                                          </td></tr>\n",
       "\t<tr><td>Inaktiver User         </td><td>02.06.2020, </td><td>18:29:00</td><td>post_message_34705352</td><td>Vielen Dank, liebes Community-Team. Es ist so wie eine \"Reinigung\" des Threads ... vielleicht kommen jetzt neue Fragen, Sorgen, Lösungen, Ideen auf  ... manchmal ist weniger, mehr ... :zwinker:                                                                                                                                                            </td><td>NA</td><td>NA</td><td>34705352</td><td>Vielen Dank, liebes Community-Team. Es ist so wie eine \"Reinigung\" des Threads ... vielleicht kommen jetzt neue Fragen, Sorgen, Lösungen, Ideen auf  ... manchmal ist weniger, mehr ... 😉                                                                                                                                                                   </td></tr>\n",
       "</tbody>\n",
       "</table>\n"
      ],
      "text/latex": [
       "A tibble: 3 × 9\n",
       "\\begin{tabular}{lllllllll}\n",
       " user & date & time & mid & text & user\\_quoted & quoted\\_text & id & text2\\\\\n",
       " <chr> & <chr> & <time> & <chr> & <chr> & <chr> & <chr> & <chr> & <chr>\\\\\n",
       "\\hline\n",
       "\t BRIGITTE Community-Team & 02.06.2020,  & 13:24:00 & post\\_message\\_34705014 & Liebe User*innen, neben Fragen der Kinderbetreuung, Kitas oder Home-Schooling soll hier auch Platz für weitere Familienthemen wie z.B. den Umgang mit An gehörigen in Seniorenheimen sein. Hier können Sie sehen, welchen bisherigen Themen in diesem neuen Thema aufgehen Wir wünschen Ihnen spannende Diskussionen. Viele Grüße vom BRIGITTE Community-Team & NA & NA & 34705014 & Liebe User*innen, neben Fragen der Kinderbetreuung, Kitas oder Home-Schooling soll hier auch Platz für weitere Familienthemen wie z.B. den Umgang mit An gehörigen in Seniorenheimen sein. Hier können Sie sehen, welchen bisherigen Themen in diesem neuen Thema aufgehen Wir wünschen Ihnen spannende Diskussionen. Viele Grüße vom BRIGITTE Community-Team\\\\\n",
       "\t BRIGITTE Community-Team & 02.06.2020,  & 15:19:00 & post\\_message\\_34705172 & Da das Thema durch den Umbau weiter nach hinten gerutscht ist, schieben wir es auf diesem Weg wieder nach vorne. Wir wünschen Ihnen spannende Diskussionen. Viele Grüße vom BRIGITTE Community-Team                                                                                                                                                           & NA & NA & 34705172 & Da das Thema durch den Umbau weiter nach hinten gerutscht ist, schieben wir es auf diesem Weg wieder nach vorne. Wir wünschen Ihnen spannende Diskussionen. Viele Grüße vom BRIGITTE Community-Team                                                                                                                                                          \\\\\n",
       "\t Inaktiver User          & 02.06.2020,  & 18:29:00 & post\\_message\\_34705352 & Vielen Dank, liebes Community-Team. Es ist so wie eine \"Reinigung\" des Threads ... vielleicht kommen jetzt neue Fragen, Sorgen, Lösungen, Ideen auf  ... manchmal ist weniger, mehr ... :zwinker:                                                                                                                                                             & NA & NA & 34705352 & Vielen Dank, liebes Community-Team. Es ist so wie eine \"Reinigung\" des Threads ... vielleicht kommen jetzt neue Fragen, Sorgen, Lösungen, Ideen auf  ... manchmal ist weniger, mehr ... 😉                                                                                                                                                                   \\\\\n",
       "\\end{tabular}\n"
      ],
      "text/markdown": [
       "\n",
       "A tibble: 3 × 9\n",
       "\n",
       "| user &lt;chr&gt; | date &lt;chr&gt; | time &lt;time&gt; | mid &lt;chr&gt; | text &lt;chr&gt; | user_quoted &lt;chr&gt; | quoted_text &lt;chr&gt; | id &lt;chr&gt; | text2 &lt;chr&gt; |\n",
       "|---|---|---|---|---|---|---|---|---|\n",
       "| BRIGITTE Community-Team | 02.06.2020,  | 13:24:00 | post_message_34705014 | Liebe User*innen, neben Fragen der Kinderbetreuung, Kitas oder Home-Schooling soll hier auch Platz für weitere Familienthemen wie z.B. den Umgang mit An gehörigen in Seniorenheimen sein. Hier können Sie sehen, welchen bisherigen Themen in diesem neuen Thema aufgehen Wir wünschen Ihnen spannende Diskussionen. Viele Grüße vom BRIGITTE Community-Team | NA | NA | 34705014 | Liebe User*innen, neben Fragen der Kinderbetreuung, Kitas oder Home-Schooling soll hier auch Platz für weitere Familienthemen wie z.B. den Umgang mit An gehörigen in Seniorenheimen sein. Hier können Sie sehen, welchen bisherigen Themen in diesem neuen Thema aufgehen Wir wünschen Ihnen spannende Diskussionen. Viele Grüße vom BRIGITTE Community-Team |\n",
       "| BRIGITTE Community-Team | 02.06.2020,  | 15:19:00 | post_message_34705172 | Da das Thema durch den Umbau weiter nach hinten gerutscht ist, schieben wir es auf diesem Weg wieder nach vorne. Wir wünschen Ihnen spannende Diskussionen. Viele Grüße vom BRIGITTE Community-Team                                                                                                                                                           | NA | NA | 34705172 | Da das Thema durch den Umbau weiter nach hinten gerutscht ist, schieben wir es auf diesem Weg wieder nach vorne. Wir wünschen Ihnen spannende Diskussionen. Viele Grüße vom BRIGITTE Community-Team                                                                                                                                                           |\n",
       "| Inaktiver User          | 02.06.2020,  | 18:29:00 | post_message_34705352 | Vielen Dank, liebes Community-Team. Es ist so wie eine \"Reinigung\" des Threads ... vielleicht kommen jetzt neue Fragen, Sorgen, Lösungen, Ideen auf  ... manchmal ist weniger, mehr ... :zwinker:                                                                                                                                                             | NA | NA | 34705352 | Vielen Dank, liebes Community-Team. Es ist so wie eine \"Reinigung\" des Threads ... vielleicht kommen jetzt neue Fragen, Sorgen, Lösungen, Ideen auf  ... manchmal ist weniger, mehr ... 😉                                                                                                                                                                    |\n",
       "\n"
      ],
      "text/plain": [
       "  user                    date         time     mid                  \n",
       "1 BRIGITTE Community-Team 02.06.2020,  13:24:00 post_message_34705014\n",
       "2 BRIGITTE Community-Team 02.06.2020,  15:19:00 post_message_34705172\n",
       "3 Inaktiver User          02.06.2020,  18:29:00 post_message_34705352\n",
       "  text                                                                                                                                                                                                                                                                                                                                                         \n",
       "1 Liebe User*innen, neben Fragen der Kinderbetreuung, Kitas oder Home-Schooling soll hier auch Platz für weitere Familienthemen wie z.B. den Umgang mit An gehörigen in Seniorenheimen sein. Hier können Sie sehen, welchen bisherigen Themen in diesem neuen Thema aufgehen Wir wünschen Ihnen spannende Diskussionen. Viele Grüße vom BRIGITTE Community-Team\n",
       "2 Da das Thema durch den Umbau weiter nach hinten gerutscht ist, schieben wir es auf diesem Weg wieder nach vorne. Wir wünschen Ihnen spannende Diskussionen. Viele Grüße vom BRIGITTE Community-Team                                                                                                                                                          \n",
       "3 Vielen Dank, liebes Community-Team. Es ist so wie eine \"Reinigung\" des Threads ... vielleicht kommen jetzt neue Fragen, Sorgen, Lösungen, Ideen auf  ... manchmal ist weniger, mehr ... :zwinker:                                                                                                                                                            \n",
       "  user_quoted quoted_text id      \n",
       "1 NA          NA          34705014\n",
       "2 NA          NA          34705172\n",
       "3 NA          NA          34705352\n",
       "  text2                                                                                                                                                                                                                                                                                                                                                        \n",
       "1 Liebe User*innen, neben Fragen der Kinderbetreuung, Kitas oder Home-Schooling soll hier auch Platz für weitere Familienthemen wie z.B. den Umgang mit An gehörigen in Seniorenheimen sein. Hier können Sie sehen, welchen bisherigen Themen in diesem neuen Thema aufgehen Wir wünschen Ihnen spannende Diskussionen. Viele Grüße vom BRIGITTE Community-Team\n",
       "2 Da das Thema durch den Umbau weiter nach hinten gerutscht ist, schieben wir es auf diesem Weg wieder nach vorne. Wir wünschen Ihnen spannende Diskussionen. Viele Grüße vom BRIGITTE Community-Team                                                                                                                                                          \n",
       "3 Vielen Dank, liebes Community-Team. Es ist so wie eine \"Reinigung\" des Threads ... vielleicht kommen jetzt neue Fragen, Sorgen, Lösungen, Ideen auf  ... manchmal ist weniger, mehr ... 😉                                                                                                                                                                   "
      ]
     },
     "metadata": {},
     "output_type": "display_data"
    }
   ],
   "source": [
    "head(forum, 3)"
   ]
  },
  {
   "cell_type": "markdown",
   "metadata": {},
   "source": [
    "Remove deleted messages"
   ]
  },
  {
   "cell_type": "code",
   "execution_count": 406,
   "metadata": {
    "vscode": {
     "languageId": "r"
    }
   },
   "outputs": [],
   "source": [
    "forum %<>% filter(!is.na(mid))"
   ]
  },
  {
   "cell_type": "code",
   "execution_count": 413,
   "metadata": {
    "vscode": {
     "languageId": "r"
    }
   },
   "outputs": [],
   "source": [
    "forum %<>%\n",
    "    mutate(mid = gsub('post_message_', '', mid)) %>% \n",
    "    arrange(mid)"
   ]
  },
  {
   "cell_type": "code",
   "execution_count": 407,
   "metadata": {
    "vscode": {
     "languageId": "r"
    }
   },
   "outputs": [],
   "source": [
    "saveRDS(forum, here('data/forum_emj.rds'))"
   ]
  }
 ],
 "metadata": {
  "kernelspec": {
   "display_name": "R",
   "language": "R",
   "name": "ir"
  },
  "language_info": {
   "codemirror_mode": "r",
   "file_extension": ".r",
   "mimetype": "text/x-r-source",
   "name": "R",
   "pygments_lexer": "r",
   "version": "4.2.2"
  },
  "vscode": {
   "interpreter": {
    "hash": "fd68bbe49f8e5a5198b3bacf111fe607cdbd3b5ce3f47171f8eca2b2f1243bb9"
   }
  }
 },
 "nbformat": 4,
 "nbformat_minor": 4
}
