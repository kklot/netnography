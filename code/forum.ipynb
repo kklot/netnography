{
 "cells": [
  {
   "cell_type": "code",
   "execution_count": null,
   "metadata": {},
   "outputs": [
    {
     "ename": "",
     "evalue": "",
     "output_type": "error",
     "traceback": [
      "\u001b[1;31mRunning cells with '/opt/homebrew/bin/python3' requires ipykernel package.\n",
      "\u001b[1;31mRun the following command to install 'ipykernel' into the Python environment. \n",
      "\u001b[1;31mCommand: '/opt/homebrew/bin/python3 -m pip install ipykernel -U --user --force-reinstall'"
     ]
    }
   ],
   "source": [
    "import sys\n",
    "import os\n",
    "\n",
    "from bs4 import BeautifulSoup\n",
    "from urllib.request import Request, urlopen\n",
    "import urllib\n",
    "import requests\n",
    "import csv, pandas, re, numpy\n",
    "\n",
    "hdr = {'User-Agent': 'Mozilla/5.0 (Windows NT 6.1; Win64; x64; rv:47.0) Gecko/20100101 Firefox/47.0',\n",
    "       'Accept': 'text/html,application/xhtml+xml,application/xml;q=0.9,*/*;q=0.8',\n",
    "       'Accept-Charset': 'ISO-8859-1,utf-8;q=0.7,*;q=0.3',\n",
    "       'Accept-Encoding': 'none',\n",
    "       'Accept-Language': 'en-US,en;q=0.8',\n",
    "       'Connection': 'keep-alive'}"
   ]
  },
  {
   "attachments": {},
   "cell_type": "markdown",
   "metadata": {},
   "source": [
    "# Testing and playground"
   ]
  },
  {
   "cell_type": "code",
   "execution_count": 20,
   "metadata": {},
   "outputs": [
    {
     "name": "stdout",
     "output_type": "stream",
     "text": [
      "<div class=\"content\">\n",
      "<div id=\"post_message_34705352\">\n",
      "<blockquote class=\"postcontent restore\">\n",
      "Vielen Dank, :smile: liebes Community-Team. Es ist so wie eine \"Reinigung\" <i>des</i> Threads ... vielleicht kommen jetzt<b>neue</b>Fragen, Sorgen, Lösungen, <b>Ideen</b> auf  ... manchmal ist weniger, mehr ... :zwinker:\n",
      "</blockquote>\n",
      "</div>\n",
      "</div>\n"
     ]
    },
    {
     "data": {
      "text/plain": [
       "'Vielen Dank, :smile: liebes Community-Team. Es ist so wie eine \"Reinigung\" des Threads ... vielleicht kommen jetzt neue Fragen, Sorgen, Lösungen, Ideen auf  ... manchmal ist weniger, mehr ... :zwinker:'"
      ]
     },
     "execution_count": 20,
     "metadata": {},
     "output_type": "execute_result"
    }
   ],
   "source": [
    "kk = '<div class=\"content\">\\n<div id=\"post_message_34705352\">\\n<blockquote class=\"postcontent restore\">\\nVielen Dank, <img alt=\"\" border=\"0\" class=\"inlineimg\" src=\"https://bfriends.brigitte.de/foren/images/brigitte/smilies/neue_smileys_29.gif\" title=\"Smile\"> liebes Community-Team. Es ist so wie eine \"Reinigung\" <i>des</i> Threads ... vielleicht kommen jetzt<b>neue</b>Fragen, Sorgen, Lösungen, <b>Ideen</b> auf  ... manchmal ist weniger, mehr ... <img alt=\"\" border=\"0\" class=\"inlineimg\" src=\"https://bfriends.brigitte.de/foren/images/brigitte/smilies/neue_smileys_29.gif\" title=\"Zwinker\">\\n</blockquote>\\n</div>\\n</div>'\n",
    "# print(kk)\n",
    "s  = BeautifulSoup(kk)\n",
    "for i in s.find_all('img'):\n",
    "    t = i.get('title').lower()\n",
    "    i.replace_with(\":\"+t+\":\")\n",
    "print(s)\n",
    "s.getText(separator = \" \", strip=True)"
   ]
  },
  {
   "attachments": {},
   "cell_type": "markdown",
   "metadata": {},
   "source": [
    "# Main functions - actual data"
   ]
  },
  {
   "cell_type": "code",
   "execution_count": 4,
   "metadata": {},
   "outputs": [],
   "source": [
    "def get_quote_user(x):\n",
    "    y = x.find('div', class_='bbcode_postedby')\n",
    "    if (y is not None):\n",
    "        return(y.find('strong').text)\n",
    "    else:\n",
    "        return(\"None\")\n",
    "    \n",
    "def get_quote_msg(x):\n",
    "    y = x.find('div', class_=\"message\")\n",
    "    z = x.find('div', class_=\"quote_container\")\n",
    "    if (y is not None):\n",
    "        return(y.getText(strip = True))\n",
    "    elif (z is not None):\n",
    "        return(z.getText(strip = True))\n",
    "    else:\n",
    "        return(\"None\")\n",
    "\n",
    "def process(page_id):\n",
    "    baseurl = \"https://bfriends.brigitte.de/foren/coronavirus/536653-kinder-familie-kita-schule-in-zeiten-von-corona-\" + str(page_id) + \".html\"\n",
    "    req = Request(baseurl, data = None, headers=hdr)\n",
    "    page = urlopen(req)\n",
    "    soup = BeautifulSoup(page)\n",
    "\n",
    "    usernames = [i.getText() for i in soup.find_all([\"a\", \"span\"], {\"class\": \"username\"})]\n",
    "    dates = [i.find(text=True, recursive = False) for i in soup.find_all(\"span\", {\"class\": \"date\"})]\n",
    "    times = [i.find('span', {\"class\": \"time\"}).getText() for i in soup.find_all(\"div\", {\"class\": \"posthead\"})]\n",
    "\n",
    "    meta = pandas.DataFrame({'user': usernames, 'date': dates, 'time': times})\n",
    "\n",
    "    post = []\n",
    "    \n",
    "    for i in soup.find_all('div', class_=('content')):\n",
    "        \n",
    "        ix_ = i.find(id = re.compile('post_message'))\n",
    "        # cover cases deleted without post_message id\n",
    "        ix = None\n",
    "        if (ix_ is not None):\n",
    "            ix = ix_.get('id')\n",
    "    \n",
    "        # block quoted text\n",
    "        j = i.find_all('div', class_=\"bbcode_container\") # can quote more than one m\n",
    "        u, m = None, None\n",
    "        if j:\n",
    "            u = [get_quote_user(q) for q in j] # some does not have quoted user!!!\n",
    "            m = [get_quote_msg(q) for q in j]\n",
    "            [q.decompose() for q in j] # remove all quotes\n",
    "\n",
    "        # message replace image emoji with its code (in German)\n",
    "        for emoji in i.find_all('img'):\n",
    "            title = emoji.get('title').lower()\n",
    "            emoji.replace_with(\":\"+title+\":\")\n",
    "\n",
    "        ms = i.getText(separator = \" \", strip = True)\n",
    "\n",
    "        post.append([ix] + [ms] + [u] + [m])\n",
    "    \n",
    "    post = pandas.DataFrame(post, columns = ['mid', 'text', 'user_quoted', 'quoted_text'])\n",
    "    \n",
    "    return(meta.join(post))"
   ]
  },
  {
   "attachments": {},
   "cell_type": "markdown",
   "metadata": {},
   "source": [
    "Testing, outputs need to be\n",
    "- icons image replaced by title text --> to be converted later to UTF-8 code\n",
    "- bold and italic to have space to avoid words sticking together"
   ]
  },
  {
   "cell_type": "code",
   "execution_count": 23,
   "metadata": {},
   "outputs": [],
   "source": [
    "process(1).to_csv(\"/Users/knguyen/Downloads/testi.csv\")"
   ]
  },
  {
   "attachments": {},
   "cell_type": "markdown",
   "metadata": {},
   "source": [
    "# Get data"
   ]
  },
  {
   "attachments": {},
   "cell_type": "markdown",
   "metadata": {},
   "source": [
    "Error in page257\n",
    "Error in page288\n",
    "Error in page449"
   ]
  },
  {
   "cell_type": "code",
   "execution_count": null,
   "metadata": {},
   "outputs": [],
   "source": [
    "for pid in range(279, 1121+1):\n",
    "    print(pid, end=\".\")\n",
    "    op = process(pid)\n",
    "    try:\n",
    "        op.to_csv(\"/Users/knguyen/Documents/WIP/Papers/Astrid/data/new/page_\" + str(pid) + \".csv\")\n",
    "    except:\n",
    "        print(\"\\nError in page\"+str(pid)+\"\\n\")\n",
    "        pass"
   ]
  },
  {
   "cell_type": "code",
   "execution_count": 7,
   "metadata": {},
   "outputs": [
    {
     "data": {
      "text/plain": [
       "'So kenne ich das aus meiner Kindheit auch. 4 km Rad zum Bahnhof, dann 30 Minuten Bimmelbahn, jeweils einfach einfach. Aber ich bin ja auch hier \"eingewandert\". Ältere Schüler können ja durchaus morgens mit einem Elternteil in die Kreisstadt fahren, die kriegen, mit Geld versehen, die Zeit schon rum-Mäckes liegt in der Nähe \\ud83d\\ude02 Aber 10 jährige in der Stadt \"rumbutschern\" lassen wäre nicht so recht meins.'"
      ]
     },
     "execution_count": 7,
     "metadata": {},
     "output_type": "execute_result"
    }
   ],
   "source": [
    "# 257 emoji\n",
    "op = process(257)\n",
    "op.text[7]"
   ]
  },
  {
   "cell_type": "code",
   "execution_count": 8,
   "metadata": {},
   "outputs": [
    {
     "name": "stdout",
     "output_type": "stream",
     "text": [
      "So kenne ich das aus meiner Kindheit auch. 4 km Rad zum Bahnhof, dann 30 Minuten Bimmelbahn, jeweils einfach einfach. Aber ich bin ja auch hier \"eingewandert\". Ältere Schüler können ja durchaus morgens mit einem Elternteil in die Kreisstadt fahren, die kriegen, mit Geld versehen, die Zeit schon rum-Mäckes liegt in der Nähe :joy: Aber 10 jährige in der Stadt \"rumbutschern\" lassen wäre nicht so recht meins.\n"
     ]
    }
   ],
   "source": [
    "op.text[7] = op.text[7].replace('\\ud83d\\ude02', \":joy:\")\n",
    "print(op.text[7])\n",
    "op.to_csv(\"/Users/knguyen/Documents/WIP/Papers/Astrid/data/new/page_\" + '257' + \".csv\")"
   ]
  },
  {
   "cell_type": "code",
   "execution_count": 9,
   "metadata": {},
   "outputs": [
    {
     "data": {
      "text/plain": [
       "'In den Schulen meiner Kinder (3. Klasse und 7. klasse Gymnasium) läuft vieles gut und ich habe das Gefühl, dass sich vor allem das Gymnasium auch sehr gewissenhaft auf die Möglichkeit einer Schulschließung vorbereitet. (Sie versuchen zB schon jetzt immer wieder das schul-eigene online Lernportal im kleinen Rahmen zu nutzen um eventuelle Probleme jetzt auszumerzen) Trotzdem kam heute eine E-Mail, dass die Schulkonferenz - entgegengesetzt zur bei uns allgemeingültigen Richtlinie - eine ständige Maskenpflicht beschlossen hat. :knatsch: Die Schulleitung ist offensichtlich sehr besorgt und rechnet quasi täglich mit einem neuen lockdown und ich weiß auch, dass sie viele Lehrer mit Risikofaktoren haben, die größtenteils trotzdem Präsenzunterricht halten. Ich bin auch sehr dankbar, dass es überhaupt wieder regulär Schule gibt. Aber ich finde es für meine (gerade noch) 11-jährige ehrlich gesagt trotzdem ziemlich hart den ganzen Tag (meist von 8-15:15uhr) mit nur kurzen Unterbrechungen in den Hofpausen eine Maske tragen zu müssen. Ich bin wirklich kein Maskenmuffel und es stört mich in Geschäften und zB Bus auch nicht sehr. Aber schön ist echt anders. :persevere: Bin gerade etwas frustriert...'"
      ]
     },
     "execution_count": 9,
     "metadata": {},
     "output_type": "execute_result"
    }
   ],
   "source": [
    "op = process(288)\n",
    "op.text[3] = op.text[3].replace('\\ud83d\\ude23', \":persevere:\")\n",
    "op.to_csv(\"/Users/knguyen/Documents/WIP/Papers/Astrid/data/new/page_\" + '288' + \".csv\")\n",
    "op.text[3]"
   ]
  },
  {
   "cell_type": "code",
   "execution_count": null,
   "metadata": {},
   "outputs": [
    {
     "ename": "",
     "evalue": "",
     "output_type": "error",
     "traceback": [
      "\u001b[1;31mFailed to connect to the remote Jupyter Server 'http://127.0.0.1:9999/'. Verify the server is running and reachable. (request to http://127.0.0.1:9999/api/kernels?1671145375763 failed, reason: connect ECONNREFUSED 127.0.0.1:9999)."
     ]
    }
   ],
   "source": [
    "op = process(499)"
   ]
  },
  {
   "cell_type": "code",
   "execution_count": null,
   "metadata": {},
   "outputs": [],
   "source": [
    "op.text[9]"
   ]
  },
  {
   "cell_type": "code",
   "execution_count": null,
   "metadata": {},
   "outputs": [],
   "source": [
    "op.text[3] = op.text[3].replace('\\ud83d\\ude23', u'\\U0001f623 ')\n",
    "op.emoji[3] = 'PERSEVERING'\n",
    "# https://charbase.com/1f623-unicode-persevering-face\n",
    "op.to_csv(\"/Users/knguyen/Documents/WIP/Papers/Astrid/data/new/page_\" + '288' + \".csv\")\n",
    "op.text[3]"
   ]
  }
 ],
 "metadata": {
  "kernelspec": {
   "display_name": "Python 3",
   "language": "python",
   "name": "python3"
  },
  "language_info": {
   "codemirror_mode": "r",
   "file_extension": ".r",
   "mimetype": "text/x-r-source",
   "name": "python",
   "pygments_lexer": "r",
   "version": "3.10.8 (main, Oct 21 2022, 22:22:30) [Clang 14.0.0 (clang-1400.0.29.202)]"
  },
  "vscode": {
   "interpreter": {
    "hash": "b0fa6594d8f4cbf19f97940f81e996739fb7646882a419484c72d19e05852a7e"
   }
  }
 },
 "nbformat": 4,
 "nbformat_minor": 4
}
