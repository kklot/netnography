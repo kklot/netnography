{
 "cells": [
  {
   "cell_type": "code",
   "execution_count": null,
   "metadata": {},
   "outputs": [],
   "source": [
    "# conda activate nlp\n",
    "# conda install ipykernel\n",
    "# ipython kernel install --name nlp --user \n",
    "\n",
    "import sys\n",
    "import os\n",
    "\n",
    "from bs4 import BeautifulSoup\n",
    "from urllib.request import Request, urlopen\n",
    "import urllib\n",
    "import requests\n",
    "import csv, pandas, re, numpy\n",
    "\n",
    "# from fake_useragent import UserAgent\n",
    "# ua = UserAgent()\n",
    "# hdr = {'User-Agent': ua.random,\n",
    "hdr = {'User-Agent': 'Mozilla/5.0 (Windows NT 6.1; Win64; x64; rv:47.0) Gecko/20100101 Firefox/47.0',\n",
    "       'Accept': 'text/html,application/xhtml+xml,application/xml;q=0.9,*/*;q=0.8',\n",
    "       'Accept-Charset': 'ISO-8859-1,utf-8;q=0.7,*;q=0.3',\n",
    "       'Accept-Encoding': 'none',\n",
    "       'Accept-Language': 'en-US,en;q=0.8',\n",
    "       'Connection': 'keep-alive'}"
   ]
  },
  {
   "cell_type": "code",
   "execution_count": null,
   "metadata": {},
   "outputs": [],
   "source": [
    "baseurl = \"https://bfriends.brigitte.de/foren/coronavirus/536653-kinder-familie-kita-schule-in-zeiten-von-corona-10.html\"\n",
    "req = Request(baseurl, data = None, headers=hdr)\n",
    "page = urlopen(req)\n",
    "soup = BeautifulSoup(page)\n",
    "\n",
    "usernames = [i.getText() for i in soup.find_all([\"a\", \"span\"], {\"class\": \"username\"})]\n",
    "dates = [i.find(text=True, recursive = False) for i in soup.find_all(\"span\", {\"class\": \"date\"})]\n",
    "times = [i.find('span', {\"class\": \"time\"}).getText() for i in soup.find_all(\"div\", {\"class\": \"posthead\"})]\n",
    "\n",
    "meta = pandas.DataFrame({'user': usernames, 'date': dates, 'time': times})"
   ]
  },
  {
   "cell_type": "code",
   "execution_count": null,
   "metadata": {},
   "outputs": [],
   "source": [
    "post = []\n",
    "\n",
    "for i in soup.find_all('div', class_=('content')):\n",
    "    ix_ = i.find(id = re.compile('post_message'))\n",
    "    ix = None\n",
    "    if (ix_ is not None):\n",
    "        ix = ix_.get('id')\n",
    "    # block quoted text\n",
    "    j = i.find_all('div', class_=\"bbcode_container\") # can quote more than one ms\n",
    "\n",
    "    u, m = None, None\n",
    "    if j:\n",
    "        u = [get_quote_user(q) for q in j] # some does not have quoted user!!!\n",
    "        m = [get_quote_msg(q) for q in j]\n",
    "        [q.decompose() for q in j]\n",
    "\n",
    "    ms = i.getText(strip = True)\n",
    "    # emoji\n",
    "    emj = None\n",
    "    im = i.find('img')\n",
    "    if (im is not None):\n",
    "        emj = im.get('title')\n",
    "    post.append([ix] + [ms] + [emj] + [u] + [m])\n",
    "meta.join(pandas.DataFrame(post, columns = ['mid', 'text', 'emoji', 'user_quoted', 'quoted_text']))"
   ]
  },
  {
   "cell_type": "code",
   "execution_count": null,
   "metadata": {},
   "outputs": [],
   "source": [
    "def get_quote_user(x):\n",
    "    y = x.find('div', class_='bbcode_postedby')\n",
    "    if (y is not None):\n",
    "        return(y.find('strong').text)\n",
    "    else:\n",
    "        return(\"None\")\n",
    "    \n",
    "def get_quote_msg(x):\n",
    "    y = x.find('div', class_=\"message\")\n",
    "    z = x.find('div', class_=\"quote_container\")\n",
    "    if (y is not None):\n",
    "        return(y.getText(strip = True))\n",
    "    elif (z is not None):\n",
    "        return(z.getText(strip = True))\n",
    "    else:\n",
    "        return(\"None\")\n",
    "\n",
    "    soup.find_all('div', class_=('content'))[1].find('div', class_=\"bbcode_container\").find('div', class_='quote_container').getText(strip = True)\n",
    "\n",
    "def process(page_id):\n",
    "    baseurl = \"https://bfriends.brigitte.de/foren/coronavirus/536653-kinder-familie-kita-schule-in-zeiten-von-corona-\" + str(page_id) + \".html\"\n",
    "    req = Request(baseurl, data = None, headers=hdr)\n",
    "    page = urlopen(req)\n",
    "    soup = BeautifulSoup(page)\n",
    "\n",
    "    usernames = [i.getText() for i in soup.find_all([\"a\", \"span\"], {\"class\": \"username\"})]\n",
    "    dates = [i.find(text=True, recursive = False) for i in soup.find_all(\"span\", {\"class\": \"date\"})]\n",
    "    times = [i.find('span', {\"class\": \"time\"}).getText() for i in soup.find_all(\"div\", {\"class\": \"posthead\"})]\n",
    "\n",
    "    meta = pandas.DataFrame({'user': usernames, 'date': dates, 'time': times})\n",
    "\n",
    "    post = []\n",
    "    \n",
    "#     for i in soup.find_all(id = re.compile('post_message')):\n",
    "# use below to cover cases deleted without post_message id\n",
    "    for i in soup.find_all('div', class_=('content')):\n",
    "        \n",
    "        ix_ = i.find(id = re.compile('post_message'))\n",
    "        ix = None\n",
    "        if (ix_ is not None):\n",
    "            ix = ix_.get('id')\n",
    "    \n",
    "        # block quoted text\n",
    "        j = i.find_all('div', class_=\"bbcode_container\") # can quote more than one m\n",
    "        u, m = None, None\n",
    "        if j:\n",
    "            u = [get_quote_user(q) for q in j] # some does not have quoted user!!!\n",
    "            m = [get_quote_msg(q) for q in j]\n",
    "            [q.decompose() for q in j]\n",
    "\n",
    "        emj = None\n",
    "        im = i.find_all('img')\n",
    "        if im:\n",
    "            emj = [k.get('title') for k in im]\n",
    "            [k.decompose() for k in im]\n",
    "\n",
    "        # message removed emoji\n",
    "        ms = i.getText(strip = True)\n",
    "\n",
    "        post.append([ix] + [ms] + [emj] + [u] + [m])\n",
    "    \n",
    "    post = pandas.DataFrame(post, columns = ['mid', 'text', 'emoji', 'user_quoted', 'quoted_text'])\n",
    "    \n",
    "    return(meta.join(post))"
   ]
  },
  {
   "cell_type": "code",
   "execution_count": null,
   "metadata": {},
   "outputs": [],
   "source": [
    "for pid in range(257, 1121+1):\n",
    "    print(pid, end=\".\")\n",
    "    op = process(pid)\n",
    "    try:\n",
    "        op.to_csv(\"/Users/knguyen/Documents/WIP/Papers/Astrid/data/new/page_\" + str(pid) + \".csv\")\n",
    "    except:\n",
    "        print(\"\\nError in page\"+str(pid)+\"\\n\")\n",
    "        pass"
   ]
  },
  {
   "cell_type": "code",
   "execution_count": null,
   "metadata": {},
   "outputs": [],
   "source": [
    "# 257 emoji\n",
    "op = process(257)\n",
    "op.text[7] = op.text[7].replace('\\ud83d\\ude02', u'\\U0001f602')\n",
    "op.emoji[7] = 'JOY'\n",
    "# https://charbase.com/1f602-unicode-face-with-tears-of-joy\n",
    "# import emoji\n",
    "# emoji.replace_emoji(op.text[7], replace='')\n",
    "op.to_csv(\"/Users/knguyen/Documents/WIP/Papers/Astrid/data/new/page_\" + '257' + \".csv\")"
   ]
  },
  {
   "cell_type": "code",
   "execution_count": null,
   "metadata": {},
   "outputs": [],
   "source": [
    "op = process(288)\n",
    "op.text[3] = op.text[3].replace('\\ud83d\\ude23', u'\\U0001f623 ')\n",
    "op.emoji[3] = 'PERSEVERING'\n",
    "# https://charbase.com/1f623-unicode-persevering-face\n",
    "op.to_csv(\"/Users/knguyen/Documents/WIP/Papers/Astrid/data/new/page_\" + '288' + \".csv\")\n",
    "op.text[3]"
   ]
  },
  {
   "cell_type": "code",
   "execution_count": null,
   "metadata": {},
   "outputs": [],
   "source": [
    "op = process(499)"
   ]
  },
  {
   "cell_type": "code",
   "execution_count": null,
   "metadata": {},
   "outputs": [],
   "source": [
    "op.text[9]"
   ]
  },
  {
   "cell_type": "code",
   "execution_count": null,
   "metadata": {},
   "outputs": [],
   "source": [
    "op.text[3] = op.text[3].replace('\\ud83d\\ude23', u'\\U0001f623 ')\n",
    "op.emoji[3] = 'PERSEVERING'\n",
    "# https://charbase.com/1f623-unicode-persevering-face\n",
    "op.to_csv(\"/Users/knguyen/Documents/WIP/Papers/Astrid/data/new/page_\" + '288' + \".csv\")\n",
    "op.text[3]"
   ]
  }
 ],
 "metadata": {
  "kernelspec": {
   "display_name": "py3",
   "language": "python",
   "name": "py3"
  },
  "language_info": {
   "codemirror_mode": {
    "name": "ipython",
    "version": 3
   },
   "file_extension": ".py",
   "mimetype": "text/x-python",
   "name": "python",
   "nbconvert_exporter": "python",
   "pygments_lexer": "ipython3",
   "version": "3.9.12"
  }
 },
 "nbformat": 4,
 "nbformat_minor": 4
}
