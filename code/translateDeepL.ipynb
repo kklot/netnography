{
 "cells": [
  {
   "cell_type": "markdown",
   "metadata": {},
   "source": [
    "## Packages"
   ]
  },
  {
   "cell_type": "code",
   "execution_count": 1,
   "metadata": {
    "tags": [],
    "vscode": {
     "languageId": "r"
    }
   },
   "outputs": [
    {
     "name": "stderr",
     "output_type": "stream",
     "text": [
      "here() starts at /Users/knguyen/Documents/WIP/Papers/Astrid\n",
      "\n",
      "\n",
      "Attaching package: ‘dplyr’\n",
      "\n",
      "\n",
      "The following objects are masked from ‘package:stats’:\n",
      "\n",
      "    filter, lag\n",
      "\n",
      "\n",
      "The following objects are masked from ‘package:base’:\n",
      "\n",
      "    intersect, setdiff, setequal, union\n",
      "\n",
      "\n",
      "\u001b[1m\u001b[22m\u001b[36mℹ\u001b[39m Loading \u001b[34mktools\u001b[39m\n",
      "\u001b[36mℹ\u001b[39m Re-compiling \u001b[34m\u001b[34mktools\u001b[34m\u001b[39m (debug build)\n",
      "\n"
     ]
    },
    {
     "name": "stdout",
     "output_type": "stream",
     "text": [
      "\u001b[36m──\u001b[39m \u001b[36mR CMD INSTALL\u001b[39m \u001b[36m───────────────────────────────────────────────────────────────\u001b[39m\n",
      "* installing *source* package ‘ktools’ ...\n",
      "** using staged installation\n",
      "** libs\n",
      "Warning: no source files found\n",
      "* DONE (ktools)\n"
     ]
    }
   ],
   "source": [
    "here::i_am(\"code/VADER.ipynb\")\n",
    "library(here)\n",
    "library(tidyr)\n",
    "library(purrr)\n",
    "library(dplyr)\n",
    "devtools::load_all(\"~/Code/R/ktools/\")"
   ]
  },
  {
   "cell_type": "markdown",
   "metadata": {},
   "source": [
    "Only needed for German"
   ]
  },
  {
   "cell_type": "code",
   "execution_count": 2,
   "metadata": {
    "tags": [],
    "vscode": {
     "languageId": "r"
    }
   },
   "outputs": [
    {
     "data": {
      "text/html": [
       "'C/UTF-8/C/C/C/C'"
      ],
      "text/latex": [
       "'C/UTF-8/C/C/C/C'"
      ],
      "text/markdown": [
       "'C/UTF-8/C/C/C/C'"
      ],
      "text/plain": [
       "[1] \"C/UTF-8/C/C/C/C\""
      ]
     },
     "metadata": {},
     "output_type": "display_data"
    },
    {
     "data": {
      "text/html": [
       "'de_DE.UTF-8/de_DE.UTF-8/de_DE.UTF-8/C/de_DE.UTF-8/C'"
      ],
      "text/latex": [
       "'de\\_DE.UTF-8/de\\_DE.UTF-8/de\\_DE.UTF-8/C/de\\_DE.UTF-8/C'"
      ],
      "text/markdown": [
       "'de_DE.UTF-8/de_DE.UTF-8/de_DE.UTF-8/C/de_DE.UTF-8/C'"
      ],
      "text/plain": [
       "[1] \"de_DE.UTF-8/de_DE.UTF-8/de_DE.UTF-8/C/de_DE.UTF-8/C\""
      ]
     },
     "metadata": {},
     "output_type": "display_data"
    },
    {
     "data": {
      "text/html": [
       "'de_DE.UTF-8/de_DE.UTF-8/de_DE.UTF-8/C/de_DE.UTF-8/C'"
      ],
      "text/latex": [
       "'de\\_DE.UTF-8/de\\_DE.UTF-8/de\\_DE.UTF-8/C/de\\_DE.UTF-8/C'"
      ],
      "text/markdown": [
       "'de_DE.UTF-8/de_DE.UTF-8/de_DE.UTF-8/C/de_DE.UTF-8/C'"
      ],
      "text/plain": [
       "[1] \"de_DE.UTF-8/de_DE.UTF-8/de_DE.UTF-8/C/de_DE.UTF-8/C\""
      ]
     },
     "metadata": {},
     "output_type": "display_data"
    }
   ],
   "source": [
    "Sys.getlocale()\n",
    "Sys.setlocale(\"LC_ALL\", \"de_DE.UTF-8\")\n",
    "Sys.getlocale()"
   ]
  },
  {
   "cell_type": "markdown",
   "metadata": {},
   "source": [
    "Read forum data"
   ]
  },
  {
   "cell_type": "code",
   "execution_count": 3,
   "metadata": {
    "tags": [],
    "vscode": {
     "languageId": "r"
    }
   },
   "outputs": [
    {
     "name": "stdout",
     "output_type": "stream",
     "text": [
      "Rows: 11,208\n",
      "Columns: 9\n",
      "$ user        \u001b[3m\u001b[90m<chr>\u001b[39m\u001b[23m \"BRIGITTE Community-Team\", \"BRIGITTE Community-Team\", \"Ina…\n",
      "$ date        \u001b[3m\u001b[90m<chr>\u001b[39m\u001b[23m \"02.06.2020, \", \"02.06.2020, \", \"02.06.2020, \", \"03.06.202…\n",
      "$ time        \u001b[3m\u001b[90m<hms>\u001b[39m\u001b[23m 48240 secs, 55140 secs, 66540 secs, 5940 secs, 25560 secs,…\n",
      "$ mid         \u001b[3m\u001b[90m<chr>\u001b[39m\u001b[23m \"post_message_34705014\", \"post_message_34705172\", \"post_me…\n",
      "$ text        \u001b[3m\u001b[90m<chr>\u001b[39m\u001b[23m \"Liebe User*innen, neben Fragen der Kinderbetreuung, Kitas…\n",
      "$ user_quoted \u001b[3m\u001b[90m<chr>\u001b[39m\u001b[23m NA, NA, NA, NA, NA, \"['BRIGITTE Community-Team']\", NA, \"['…\n",
      "$ quoted_text \u001b[3m\u001b[90m<chr>\u001b[39m\u001b[23m NA, NA, NA, NA, NA, \"['- Bitte verzichten Sie darauf, in d…\n",
      "$ id          \u001b[3m\u001b[90m<chr>\u001b[39m\u001b[23m \"34705014\", \"34705172\", \"34705352\", \"34705824\", \"34705866\"…\n",
      "$ text2       \u001b[3m\u001b[90m<chr>\u001b[39m\u001b[23m \"Liebe User*innen, neben Fragen der Kinderbetreuung, Kitas…\n"
     ]
    },
    {
     "data": {
      "text/html": [
       "<strong>Liebe User*innen, neben Fragen der Kinderbetreuung, Kitas oder Home-Schooling soll hier auch Platz für weitere Familienthemen wie z.B. den Umgang mit An gehörigen in Seniorenheimen sein. Hier können Sie sehen, welchen bisherigen Themen in diesem neuen Thema aufgehen Wir wünschen Ihnen spannende Diskussionen. Viele Grüße vom BRIGITTE Community-Team:</strong> 'Liebe User*innen, neben Fragen der Kinderbetreuung, Kitas oder Home-Schooling soll hier auch Platz für weitere Familienthemen wie z.B. den Umgang mit An gehörigen in Seniorenheimen sein. Hier können Sie sehen, welchen bisherigen Themen in diesem neuen Thema aufgehen Wir wünschen Ihnen spannende Diskussionen. Viele Grüße vom BRIGITTE Community-Team'"
      ],
      "text/latex": [
       "\\textbf{Liebe User*innen, neben Fragen der Kinderbetreuung, Kitas oder Home-Schooling soll hier auch Platz für weitere Familienthemen wie z.B. den Umgang mit An gehörigen in Seniorenheimen sein. Hier können Sie sehen, welchen bisherigen Themen in diesem neuen Thema aufgehen Wir wünschen Ihnen spannende Diskussionen. Viele Grüße vom BRIGITTE Community-Team:} 'Liebe User*innen, neben Fragen der Kinderbetreuung, Kitas oder Home-Schooling soll hier auch Platz für weitere Familienthemen wie z.B. den Umgang mit An gehörigen in Seniorenheimen sein. Hier können Sie sehen, welchen bisherigen Themen in diesem neuen Thema aufgehen Wir wünschen Ihnen spannende Diskussionen. Viele Grüße vom BRIGITTE Community-Team'"
      ],
      "text/markdown": [
       "**Liebe User*innen, neben Fragen der Kinderbetreuung, Kitas oder Home-Schooling soll hier auch Platz für weitere Familienthemen wie z.B. den Umgang mit An gehörigen in Seniorenheimen sein. Hier können Sie sehen, welchen bisherigen Themen in diesem neuen Thema aufgehen Wir wünschen Ihnen spannende Diskussionen. Viele Grüße vom BRIGITTE Community-Team:** 'Liebe User*innen, neben Fragen der Kinderbetreuung, Kitas oder Home-Schooling soll hier auch Platz für weitere Familienthemen wie z.B. den Umgang mit An gehörigen in Seniorenheimen sein. Hier können Sie sehen, welchen bisherigen Themen in diesem neuen Thema aufgehen Wir wünschen Ihnen spannende Diskussionen. Viele Grüße vom BRIGITTE Community-Team'"
      ],
      "text/plain": [
       "  Liebe User*innen, neben Fragen der Kinderbetreuung, Kitas oder Home-Schooling soll hier auch Platz für weitere Familienthemen wie z.B. den Umgang mit An gehörigen in Seniorenheimen sein. Hier können Sie sehen, welchen bisherigen Themen in diesem neuen Thema aufgehen Wir wünschen Ihnen spannende Diskussionen. Viele Grüße vom BRIGITTE Community-Team \n",
       "\"Liebe User*innen, neben Fragen der Kinderbetreuung, Kitas oder Home-Schooling soll hier auch Platz für weitere Familienthemen wie z.B. den Umgang mit An gehörigen in Seniorenheimen sein. Hier können Sie sehen, welchen bisherigen Themen in diesem neuen Thema aufgehen Wir wünschen Ihnen spannende Diskussionen. Viele Grüße vom BRIGITTE Community-Team\" "
      ]
     },
     "metadata": {},
     "output_type": "display_data"
    }
   ],
   "source": [
    "forum <- readRDS(here(\"data/forum_emj.rds\"))\n",
    "glimpse(forum)\n",
    "forum$text2[1]"
   ]
  },
  {
   "cell_type": "markdown",
   "metadata": {
    "jp-MarkdownHeadingCollapsed": true,
    "tags": []
   },
   "source": [
    "## Split German text before translating?\n",
    "\n",
    "> See below, DeepL seems better at splitting sentences as well."
   ]
  },
  {
   "cell_type": "code",
   "execution_count": null,
   "metadata": {
    "vscode": {
     "languageId": "r"
    }
   },
   "outputs": [],
   "source": [
    "library(\"spacyr\")\n",
    "Sys.setenv(RETICULATE_PYTHON = \"/Users/knguyen/opt/miniconda3/bin/python\")\n",
    "spacy_initialize('de_dep_news_trf')"
   ]
  },
  {
   "cell_type": "markdown",
   "metadata": {},
   "source": [
    "Manually split German with `spacyr`"
   ]
  },
  {
   "cell_type": "code",
   "execution_count": 88,
   "metadata": {
    "scrolled": true,
    "tags": [],
    "vscode": {
     "languageId": "r"
    }
   },
   "outputs": [
    {
     "data": {
      "text/html": [
       "<strong>$`Was mich etwas besorgt ist, dass es in Isreal (was ja sehr schnell und stark mit Einschränkungen reagiert hat) jetzt anscheinend wieder zu vermehrten Infektionen in Schulen zu kommen scheint. Die sind jetzt wohl in einem nervigen \"auf und zu\" von Schulen. Quelle: SZ, 5.06.20, S. 16, Alexandra Föderl-Schmid, \"Schule auf, Schule zu\" Sie reagieren einerseits mit den erwähnten Schließungen und mit sog. Sentinels (also Stichproben in ausgewählten Einrichtungen). Und mit einem Antikörper Screenings mit 70000 Personen in der 1. Runde. So sollte das in D auch gehen!`</strong> = <style>\n",
       ".list-inline {list-style: none; margin:0; padding: 0}\n",
       ".list-inline>li {display: inline-block}\n",
       ".list-inline>li:not(:last-child)::after {content: \"\\00b7\"; padding: 0 .5ex}\n",
       "</style>\n",
       "<ol class=list-inline><li>'Was mich etwas besorgt ist, dass es in Isreal (was ja sehr schnell und stark mit Einschränkungen reagiert hat) jetzt anscheinend wieder zu vermehrten Infektionen in Schulen zu kommen scheint.'</li><li>'Die sind jetzt wohl in einem nervigen \"auf und zu\" von Schulen.'</li><li>'Quelle: SZ, 5.06.20, S. 16, Alexandra Föderl-Schmid, \"Schule auf, Schule zu\"'</li><li>'Sie reagieren einerseits mit den erwähnten Schließungen und mit sog. Sentinels (also Stichproben in ausgewählten Einrichtungen).'</li><li>'Und mit einem Antikörper Screenings mit 70000 Personen in der 1. Runde.'</li><li>'So sollte das in D auch gehen!'</li></ol>\n"
      ],
      "text/latex": [
       "\\textbf{\\$`Was mich etwas besorgt ist, dass es in Isreal (was ja sehr schnell und stark mit Einschränkungen reagiert hat) jetzt anscheinend wieder zu vermehrten Infektionen in Schulen zu kommen scheint. Die sind jetzt wohl in einem nervigen \"auf und zu\" von Schulen. Quelle: SZ, 5.06.20, S. 16, Alexandra Föderl-Schmid, \"Schule auf, Schule zu\" Sie reagieren einerseits mit den erwähnten Schließungen und mit sog. Sentinels (also Stichproben in ausgewählten Einrichtungen). Und mit einem Antikörper Screenings mit 70000 Personen in der 1. Runde. So sollte das in D auch gehen!`} = \\begin{enumerate*}\n",
       "\\item 'Was mich etwas besorgt ist, dass es in Isreal (was ja sehr schnell und stark mit Einschränkungen reagiert hat) jetzt anscheinend wieder zu vermehrten Infektionen in Schulen zu kommen scheint.'\n",
       "\\item 'Die sind jetzt wohl in einem nervigen \"auf und zu\" von Schulen.'\n",
       "\\item 'Quelle: SZ, 5.06.20, S. 16, Alexandra Föderl-Schmid, \"Schule auf, Schule zu\"'\n",
       "\\item 'Sie reagieren einerseits mit den erwähnten Schließungen und mit sog. Sentinels (also Stichproben in ausgewählten Einrichtungen).'\n",
       "\\item 'Und mit einem Antikörper Screenings mit 70000 Personen in der 1. Runde.'\n",
       "\\item 'So sollte das in D auch gehen!'\n",
       "\\end{enumerate*}\n"
      ],
      "text/markdown": [
       "**$`Was mich etwas besorgt ist, dass es in Isreal (was ja sehr schnell und stark mit Einschränkungen reagiert hat) jetzt anscheinend wieder zu vermehrten Infektionen in Schulen zu kommen scheint. Die sind jetzt wohl in einem nervigen \"auf und zu\" von Schulen. Quelle: SZ, 5.06.20, S. 16, Alexandra Föderl-Schmid, \"Schule auf, Schule zu\" Sie reagieren einerseits mit den erwähnten Schließungen und mit sog. Sentinels (also Stichproben in ausgewählten Einrichtungen). Und mit einem Antikörper Screenings mit 70000 Personen in der 1. Runde. So sollte das in D auch gehen!`** = 1. 'Was mich etwas besorgt ist, dass es in Isreal (was ja sehr schnell und stark mit Einschränkungen reagiert hat) jetzt anscheinend wieder zu vermehrten Infektionen in Schulen zu kommen scheint.'\n",
       "2. 'Die sind jetzt wohl in einem nervigen \"auf und zu\" von Schulen.'\n",
       "3. 'Quelle: SZ, 5.06.20, S. 16, Alexandra Föderl-Schmid, \"Schule auf, Schule zu\"'\n",
       "4. 'Sie reagieren einerseits mit den erwähnten Schließungen und mit sog. Sentinels (also Stichproben in ausgewählten Einrichtungen).'\n",
       "5. 'Und mit einem Antikörper Screenings mit 70000 Personen in der 1. Runde.'\n",
       "6. 'So sollte das in D auch gehen!'\n",
       "\n",
       "\n"
      ],
      "text/plain": [
       "$...\n",
       "[1] \"Was mich etwas besorgt ist, dass es in Isreal (was ja sehr schnell und stark mit Einschränkungen reagiert hat) jetzt anscheinend wieder zu vermehrten Infektionen in Schulen zu kommen scheint.\"\n",
       "[2] \"Die sind jetzt wohl in einem nervigen \\\"auf und zu\\\" von Schulen.\"                                                                                                                              \n",
       "[3] \"Quelle: SZ, 5.06.20, S. 16, Alexandra Föderl-Schmid, \\\"Schule auf, Schule zu\\\"\"                                                                                                                 \n",
       "[4] \"Sie reagieren einerseits mit den erwähnten Schließungen und mit sog. Sentinels (also Stichproben in ausgewählten Einrichtungen).\"                                                               \n",
       "[5] \"Und mit einem Antikörper Screenings mit 70000 Personen in der 1. Runde.\"                                                                                                                        \n",
       "[6] \"So sollte das in D auch gehen!\"                                                                                                                                                                 \n"
      ]
     },
     "metadata": {},
     "output_type": "display_data"
    },
    {
     "data": {
      "text/html": [
       "<strong>$`Was mich etwas besorgt ist, dass es in Isreal (was ja sehr schnell und stark mit Einschränkungen reagiert hat) jetzt anscheinend wieder zu vermehrten Infektionen in Schulen zu kommen scheint. Die sind jetzt wohl in einem nervigen \"auf und zu\" von Schulen. Quelle: SZ, 5.06.20, S. 16, Alexandra Föderl-Schmid, \"Schule auf, Schule zu\" Sie reagieren einerseits mit den erwähnten Schließungen und mit sog. Sentinels (also Stichproben in ausgewählten Einrichtungen). Und mit einem Antikörper Screenings mit 70000 Personen in der 1. Runde. So sollte das in D auch gehen!`</strong> = <style>\n",
       ".list-inline {list-style: none; margin:0; padding: 0}\n",
       ".list-inline>li {display: inline-block}\n",
       ".list-inline>li:not(:last-child)::after {content: \"\\00b7\"; padding: 0 .5ex}\n",
       "</style>\n",
       "<ol class=list-inline><li>'Was mich etwas besorgt ist, dass es in Isreal (was ja sehr schnell und stark mit Einschränkungen reagiert hat) jetzt anscheinend wieder zu vermehrten Infektionen in Schulen zu kommen scheint.'</li><li>'Die sind jetzt wohl in einem nervigen \"auf und zu\" von Schulen.'</li><li>'Quelle: SZ, 5.06.20, S.'</li><li>'16, Alexandra Föderl-Schmid, \"Schule auf, Schule zu\" Sie reagieren einerseits mit den erwähnten Schließungen und mit sog.'</li><li>'Sentinels (also Stichproben in ausgewählten Einrichtungen).'</li><li>'Und mit einem Antikörper Screenings mit 70000 Personen in der 1.'</li><li>'Runde.'</li><li>'So sollte das in D auch gehen!'</li></ol>\n"
      ],
      "text/latex": [
       "\\textbf{\\$`Was mich etwas besorgt ist, dass es in Isreal (was ja sehr schnell und stark mit Einschränkungen reagiert hat) jetzt anscheinend wieder zu vermehrten Infektionen in Schulen zu kommen scheint. Die sind jetzt wohl in einem nervigen \"auf und zu\" von Schulen. Quelle: SZ, 5.06.20, S. 16, Alexandra Föderl-Schmid, \"Schule auf, Schule zu\" Sie reagieren einerseits mit den erwähnten Schließungen und mit sog. Sentinels (also Stichproben in ausgewählten Einrichtungen). Und mit einem Antikörper Screenings mit 70000 Personen in der 1. Runde. So sollte das in D auch gehen!`} = \\begin{enumerate*}\n",
       "\\item 'Was mich etwas besorgt ist, dass es in Isreal (was ja sehr schnell und stark mit Einschränkungen reagiert hat) jetzt anscheinend wieder zu vermehrten Infektionen in Schulen zu kommen scheint.'\n",
       "\\item 'Die sind jetzt wohl in einem nervigen \"auf und zu\" von Schulen.'\n",
       "\\item 'Quelle: SZ, 5.06.20, S.'\n",
       "\\item '16, Alexandra Föderl-Schmid, \"Schule auf, Schule zu\" Sie reagieren einerseits mit den erwähnten Schließungen und mit sog.'\n",
       "\\item 'Sentinels (also Stichproben in ausgewählten Einrichtungen).'\n",
       "\\item 'Und mit einem Antikörper Screenings mit 70000 Personen in der 1.'\n",
       "\\item 'Runde.'\n",
       "\\item 'So sollte das in D auch gehen!'\n",
       "\\end{enumerate*}\n"
      ],
      "text/markdown": [
       "**$`Was mich etwas besorgt ist, dass es in Isreal (was ja sehr schnell und stark mit Einschränkungen reagiert hat) jetzt anscheinend wieder zu vermehrten Infektionen in Schulen zu kommen scheint. Die sind jetzt wohl in einem nervigen \"auf und zu\" von Schulen. Quelle: SZ, 5.06.20, S. 16, Alexandra Föderl-Schmid, \"Schule auf, Schule zu\" Sie reagieren einerseits mit den erwähnten Schließungen und mit sog. Sentinels (also Stichproben in ausgewählten Einrichtungen). Und mit einem Antikörper Screenings mit 70000 Personen in der 1. Runde. So sollte das in D auch gehen!`** = 1. 'Was mich etwas besorgt ist, dass es in Isreal (was ja sehr schnell und stark mit Einschränkungen reagiert hat) jetzt anscheinend wieder zu vermehrten Infektionen in Schulen zu kommen scheint.'\n",
       "2. 'Die sind jetzt wohl in einem nervigen \"auf und zu\" von Schulen.'\n",
       "3. 'Quelle: SZ, 5.06.20, S.'\n",
       "4. '16, Alexandra Föderl-Schmid, \"Schule auf, Schule zu\" Sie reagieren einerseits mit den erwähnten Schließungen und mit sog.'\n",
       "5. 'Sentinels (also Stichproben in ausgewählten Einrichtungen).'\n",
       "6. 'Und mit einem Antikörper Screenings mit 70000 Personen in der 1.'\n",
       "7. 'Runde.'\n",
       "8. 'So sollte das in D auch gehen!'\n",
       "\n",
       "\n"
      ],
      "text/plain": [
       "$...\n",
       "[1] \"Was mich etwas besorgt ist, dass es in Isreal (was ja sehr schnell und stark mit Einschränkungen reagiert hat) jetzt anscheinend wieder zu vermehrten Infektionen in Schulen zu kommen scheint.\"\n",
       "[2] \"Die sind jetzt wohl in einem nervigen \\\"auf und zu\\\" von Schulen.\"                                                                                                                              \n",
       "[3] \"Quelle: SZ, 5.06.20, S.\"                                                                                                                                                                        \n",
       "[4] \"16, Alexandra Föderl-Schmid, \\\"Schule auf, Schule zu\\\" Sie reagieren einerseits mit den erwähnten Schließungen und mit sog.\"                                                                    \n",
       "[5] \"Sentinels (also Stichproben in ausgewählten Einrichtungen).\"                                                                                                                                    \n",
       "[6] \"Und mit einem Antikörper Screenings mit 70000 Personen in der 1.\"                                                                                                                               \n",
       "[7] \"Runde.\"                                                                                                                                                                                         \n",
       "[8] \"So sollte das in D auch gehen!\"                                                                                                                                                                 \n"
      ]
     },
     "metadata": {},
     "output_type": "display_data"
    }
   ],
   "source": [
    "spacy_tokenize(forum$text2[100], \"sentence\")\n",
    "quanteda::tokenize_sentence(forum$text2[100])"
   ]
  },
  {
   "cell_type": "markdown",
   "metadata": {},
   "source": [
    "> `Spacy` outperforms `tidytext` (which uses `tokenizer` package any way)\n",
    "\n",
    "But here is an example where Deepl is better:"
   ]
  },
  {
   "cell_type": "code",
   "execution_count": 90,
   "metadata": {
    "scrolled": true,
    "tags": [],
    "vscode": {
     "languageId": "r"
    }
   },
   "outputs": [
    {
     "data": {
      "text/html": [
       "<style>\n",
       ".dl-inline {width: auto; margin:0; padding: 0}\n",
       ".dl-inline>dt, .dl-inline>dd {float: none; width: auto; display: inline-block}\n",
       ".dl-inline>dt::after {content: \":\\0020\"; padding-right: .5ex}\n",
       ".dl-inline>dt:not(:first-of-type) {padding-left: .5ex}\n",
       "</style><dl class=dl-inline><dt>Liebe User*innen, neben Fragen der Kinderbetreuung, Kitas oder Home-Schooling soll hier auch Platz für weitere Familienthemen wie z.B. den Umgang mit An gehörigen in Seniorenheimen sein. Hier können Sie sehen, welchen bisherigen Themen in diesem neuen Thema aufgehen Wir wünschen Ihnen spannende Diskussionen. Viele Grüße vom BRIGITTE Community-Team</dt><dd>'Liebe User*innen, neben Fragen der Kinderbetreuung, Kitas oder Home-Schooling soll hier auch Platz für weitere Familienthemen wie z.B. den Umgang mit An gehörigen in Seniorenheimen sein. Hier können Sie sehen, welchen bisherigen Themen in diesem neuen Thema aufgehen Wir wünschen Ihnen spannende Diskussionen. Viele Grüße vom BRIGITTE Community-Team'</dd><dt>Da das Thema durch den Umbau weiter nach hinten gerutscht ist, schieben wir es auf diesem Weg wieder nach vorne. Wir wünschen Ihnen spannende Diskussionen. Viele Grüße vom BRIGITTE Community-Team</dt><dd>'Da das Thema durch den Umbau weiter nach hinten gerutscht ist, schieben wir es auf diesem Weg wieder nach vorne. Wir wünschen Ihnen spannende Diskussionen. Viele Grüße vom BRIGITTE Community-Team'</dd></dl>\n"
      ],
      "text/latex": [
       "\\begin{description*}\n",
       "\\item[Liebe User*innen, neben Fragen der Kinderbetreuung, Kitas oder Home-Schooling soll hier auch Platz für weitere Familienthemen wie z.B. den Umgang mit An gehörigen in Seniorenheimen sein. Hier können Sie sehen, welchen bisherigen Themen in diesem neuen Thema aufgehen Wir wünschen Ihnen spannende Diskussionen. Viele Grüße vom BRIGITTE Community-Team] 'Liebe User*innen, neben Fragen der Kinderbetreuung, Kitas oder Home-Schooling soll hier auch Platz für weitere Familienthemen wie z.B. den Umgang mit An gehörigen in Seniorenheimen sein. Hier können Sie sehen, welchen bisherigen Themen in diesem neuen Thema aufgehen Wir wünschen Ihnen spannende Diskussionen. Viele Grüße vom BRIGITTE Community-Team'\n",
       "\\item[Da das Thema durch den Umbau weiter nach hinten gerutscht ist, schieben wir es auf diesem Weg wieder nach vorne. Wir wünschen Ihnen spannende Diskussionen. Viele Grüße vom BRIGITTE Community-Team] 'Da das Thema durch den Umbau weiter nach hinten gerutscht ist, schieben wir es auf diesem Weg wieder nach vorne. Wir wünschen Ihnen spannende Diskussionen. Viele Grüße vom BRIGITTE Community-Team'\n",
       "\\end{description*}\n"
      ],
      "text/markdown": [
       "Liebe User*innen, neben Fragen der Kinderbetreuung, Kitas oder Home-Schooling soll hier auch Platz für weitere Familienthemen wie z.B. den Umgang mit An gehörigen in Seniorenheimen sein. Hier können Sie sehen, welchen bisherigen Themen in diesem neuen Thema aufgehen Wir wünschen Ihnen spannende Diskussionen. Viele Grüße vom BRIGITTE Community-Team\n",
       ":   'Liebe User*innen, neben Fragen der Kinderbetreuung, Kitas oder Home-Schooling soll hier auch Platz für weitere Familienthemen wie z.B. den Umgang mit An gehörigen in Seniorenheimen sein. Hier können Sie sehen, welchen bisherigen Themen in diesem neuen Thema aufgehen Wir wünschen Ihnen spannende Diskussionen. Viele Grüße vom BRIGITTE Community-Team'Da das Thema durch den Umbau weiter nach hinten gerutscht ist, schieben wir es auf diesem Weg wieder nach vorne. Wir wünschen Ihnen spannende Diskussionen. Viele Grüße vom BRIGITTE Community-Team\n",
       ":   'Da das Thema durch den Umbau weiter nach hinten gerutscht ist, schieben wir es auf diesem Weg wieder nach vorne. Wir wünschen Ihnen spannende Diskussionen. Viele Grüße vom BRIGITTE Community-Team'\n",
       "\n"
      ],
      "text/plain": [
       "  Liebe User*innen, neben Fragen der Kinderbetreuung, Kitas oder Home-Schooling soll hier auch Platz für weitere Familienthemen wie z.B. den Umgang mit An gehörigen in Seniorenheimen sein. Hier können Sie sehen, welchen bisherigen Themen in diesem neuen Thema aufgehen Wir wünschen Ihnen spannende Diskussionen. Viele Grüße vom BRIGITTE Community-Team \n",
       "\"Liebe User*innen, neben Fragen der Kinderbetreuung, Kitas oder Home-Schooling soll hier auch Platz für weitere Familienthemen wie z.B. den Umgang mit An gehörigen in Seniorenheimen sein. Hier können Sie sehen, welchen bisherigen Themen in diesem neuen Thema aufgehen Wir wünschen Ihnen spannende Diskussionen. Viele Grüße vom BRIGITTE Community-Team\" \n",
       "                                                                                                                                                            Da das Thema durch den Umbau weiter nach hinten gerutscht ist, schieben wir es auf diesem Weg wieder nach vorne. Wir wünschen Ihnen spannende Diskussionen. Viele Grüße vom BRIGITTE Community-Team \n",
       "                                                                                                                                                          \"Da das Thema durch den Umbau weiter nach hinten gerutscht ist, schieben wir es auf diesem Weg wieder nach vorne. Wir wünschen Ihnen spannende Diskussionen. Viele Grüße vom BRIGITTE Community-Team\" "
      ]
     },
     "metadata": {},
     "output_type": "display_data"
    },
    {
     "data": {
      "text/html": [
       "<dl>\n",
       "\t<dt>$`Liebe User*innen, neben Fragen der Kinderbetreuung, Kitas oder Home-Schooling soll hier auch Platz für weitere Familienthemen wie z.B. den Umgang mit An gehörigen in Seniorenheimen sein. Hier können Sie sehen, welchen bisherigen Themen in diesem neuen Thema aufgehen Wir wünschen Ihnen spannende Diskussionen. Viele Grüße vom BRIGITTE Community-Team`</dt>\n",
       "\t\t<dd><strong>$text1</strong> = <style>\n",
       ".list-inline {list-style: none; margin:0; padding: 0}\n",
       ".list-inline>li {display: inline-block}\n",
       ".list-inline>li:not(:last-child)::after {content: \"\\00b7\"; padding: 0 .5ex}\n",
       "</style>\n",
       "<ol class=list-inline><li>'Liebe User*innen'</li><li>','</li><li>'neben Fragen der Kinderbetreuung, Kitas oder Home-Schooling soll hier auch Platz für weitere Familienthemen wie z.B. den Umgang mit An gehörigen in Seniorenheimen sein.'</li><li>'Hier können Sie sehen, welchen bisherigen Themen in diesem neuen Thema aufgehen'</li><li>'Wir wünschen Ihnen spannende Diskussionen.'</li><li>'Viele Grüße vom'</li><li>'BRIGITTE Community-Team'</li></ol>\n",
       "</dd>\n",
       "\t<dt>$`Da das Thema durch den Umbau weiter nach hinten gerutscht ist, schieben wir es auf diesem Weg wieder nach vorne. Wir wünschen Ihnen spannende Diskussionen. Viele Grüße vom BRIGITTE Community-Team`</dt>\n",
       "\t\t<dd><strong>$text1</strong> = <style>\n",
       ".list-inline {list-style: none; margin:0; padding: 0}\n",
       ".list-inline>li {display: inline-block}\n",
       ".list-inline>li:not(:last-child)::after {content: \"\\00b7\"; padding: 0 .5ex}\n",
       "</style>\n",
       "<ol class=list-inline><li>'Da das Thema durch den Umbau weiter nach hinten gerutscht ist, schieben wir es auf diesem Weg wieder nach vorne.'</li><li>'Wir wünschen Ihnen spannende Diskussionen.'</li><li>'Viele Grüße vom'</li><li>'BRIGITTE Community-Team'</li></ol>\n",
       "</dd>\n",
       "</dl>\n"
      ],
      "text/latex": [
       "\\begin{description}\n",
       "\\item[\\$`Liebe User*innen, neben Fragen der Kinderbetreuung, Kitas oder Home-Schooling soll hier auch Platz für weitere Familienthemen wie z.B. den Umgang mit An gehörigen in Seniorenheimen sein. Hier können Sie sehen, welchen bisherigen Themen in diesem neuen Thema aufgehen Wir wünschen Ihnen spannende Diskussionen. Viele Grüße vom BRIGITTE Community-Team`] \\textbf{\\$text1} = \\begin{enumerate*}\n",
       "\\item 'Liebe User*innen'\n",
       "\\item ','\n",
       "\\item 'neben Fragen der Kinderbetreuung, Kitas oder Home-Schooling soll hier auch Platz für weitere Familienthemen wie z.B. den Umgang mit An gehörigen in Seniorenheimen sein.'\n",
       "\\item 'Hier können Sie sehen, welchen bisherigen Themen in diesem neuen Thema aufgehen'\n",
       "\\item 'Wir wünschen Ihnen spannende Diskussionen.'\n",
       "\\item 'Viele Grüße vom'\n",
       "\\item 'BRIGITTE Community-Team'\n",
       "\\end{enumerate*}\n",
       "\n",
       "\\item[\\$`Da das Thema durch den Umbau weiter nach hinten gerutscht ist, schieben wir es auf diesem Weg wieder nach vorne. Wir wünschen Ihnen spannende Diskussionen. Viele Grüße vom BRIGITTE Community-Team`] \\textbf{\\$text1} = \\begin{enumerate*}\n",
       "\\item 'Da das Thema durch den Umbau weiter nach hinten gerutscht ist, schieben wir es auf diesem Weg wieder nach vorne.'\n",
       "\\item 'Wir wünschen Ihnen spannende Diskussionen.'\n",
       "\\item 'Viele Grüße vom'\n",
       "\\item 'BRIGITTE Community-Team'\n",
       "\\end{enumerate*}\n",
       "\n",
       "\\end{description}\n"
      ],
      "text/markdown": [
       "$`Liebe User*innen, neben Fragen der Kinderbetreuung, Kitas oder Home-Schooling soll hier auch Platz für weitere Familienthemen wie z.B. den Umgang mit An gehörigen in Seniorenheimen sein. Hier können Sie sehen, welchen bisherigen Themen in diesem neuen Thema aufgehen Wir wünschen Ihnen spannende Diskussionen. Viele Grüße vom BRIGITTE Community-Team`\n",
       ":   **$text1** = 1. 'Liebe User*innen'\n",
       "2. ','\n",
       "3. 'neben Fragen der Kinderbetreuung, Kitas oder Home-Schooling soll hier auch Platz für weitere Familienthemen wie z.B. den Umgang mit An gehörigen in Seniorenheimen sein.'\n",
       "4. 'Hier können Sie sehen, welchen bisherigen Themen in diesem neuen Thema aufgehen'\n",
       "5. 'Wir wünschen Ihnen spannende Diskussionen.'\n",
       "6. 'Viele Grüße vom'\n",
       "7. 'BRIGITTE Community-Team'\n",
       "\n",
       "\n",
       "\n",
       "$`Da das Thema durch den Umbau weiter nach hinten gerutscht ist, schieben wir es auf diesem Weg wieder nach vorne. Wir wünschen Ihnen spannende Diskussionen. Viele Grüße vom BRIGITTE Community-Team`\n",
       ":   **$text1** = 1. 'Da das Thema durch den Umbau weiter nach hinten gerutscht ist, schieben wir es auf diesem Weg wieder nach vorne.'\n",
       "2. 'Wir wünschen Ihnen spannende Diskussionen.'\n",
       "3. 'Viele Grüße vom'\n",
       "4. 'BRIGITTE Community-Team'\n",
       "\n",
       "\n",
       "\n",
       "\n",
       "\n"
      ],
      "text/plain": [
       "$...\n",
       "$...$text1\n",
       "[1] \"Liebe User*innen\"                                                                                                                                                        \n",
       "[2] \",\"                                                                                                                                                                       \n",
       "[3] \"neben Fragen der Kinderbetreuung, Kitas oder Home-Schooling soll hier auch Platz für weitere Familienthemen wie z.B. den Umgang mit An gehörigen in Seniorenheimen sein.\"\n",
       "[4] \"Hier können Sie sehen, welchen bisherigen Themen in diesem neuen Thema aufgehen\"                                                                                         \n",
       "[5] \"Wir wünschen Ihnen spannende Diskussionen.\"                                                                                                                              \n",
       "[6] \"Viele Grüße vom\"                                                                                                                                                         \n",
       "[7] \"BRIGITTE Community-Team\"                                                                                                                                                 \n",
       "\n",
       "\n",
       "$`Da das Thema durch den Umbau weiter nach hinten gerutscht ist, schieben wir es auf diesem Weg wieder nach vorne. Wir wünschen Ihnen spannende Diskussionen. Viele Grüße vom BRIGITTE Community-Team`\n",
       "$`Da das Thema durch den Umbau weiter nach hinten gerutscht ist, schieben wir es auf diesem Weg wieder nach vorne. Wir wünschen Ihnen spannende Diskussionen. Viele Grüße vom BRIGITTE Community-Team`$text1\n",
       "[1] \"Da das Thema durch den Umbau weiter nach hinten gerutscht ist, schieben wir es auf diesem Weg wieder nach vorne.\"\n",
       "[2] \"Wir wünschen Ihnen spannende Diskussionen.\"                                                                      \n",
       "[3] \"Viele Grüße vom\"                                                                                                 \n",
       "[4] \"BRIGITTE Community-Team\"                                                                                         \n",
       "\n"
      ]
     },
     "metadata": {},
     "output_type": "display_data"
    }
   ],
   "source": [
    "# Spacy\n",
    "forum$text2[1:2]\n",
    "st <- lapply(forum$text2[1:2], spacy_tokenize, what = \"sentence\")\n",
    "st"
   ]
  },
  {
   "cell_type": "code",
   "execution_count": 92,
   "metadata": {
    "vscode": {
     "languageId": "r"
    }
   },
   "outputs": [
    {
     "data": {
      "text/html": [
       "<table class=\"dataframe\">\n",
       "<caption>A tibble: 2 × 1</caption>\n",
       "<thead>\n",
       "\t<tr><th scope=col>text</th></tr>\n",
       "\t<tr><th scope=col>&lt;chr&gt;</th></tr>\n",
       "</thead>\n",
       "<tbody>\n",
       "\t<tr><td>Dear users, in addition to questions about childcare, daycare centers or home schooling, there should also be room here for other family topics such as dealing with relatives in retirement homes. Here you can see which previous topics will be merged into this new topic We wish you exciting discussions. Best regards from the BRIGITTE Community Team</td></tr>\n",
       "\t<tr><td>Since the topic has slipped further to the back due to the rebuild, we are pushing it forward again this way. We wish you exciting discussions. Best regards from the BRIGITTE Community Team                                                                                                                                                                </td></tr>\n",
       "</tbody>\n",
       "</table>\n"
      ],
      "text/latex": [
       "A tibble: 2 × 1\n",
       "\\begin{tabular}{l}\n",
       " text\\\\\n",
       " <chr>\\\\\n",
       "\\hline\n",
       "\t Dear users, in addition to questions about childcare, daycare centers or home schooling, there should also be room here for other family topics such as dealing with relatives in retirement homes. Here you can see which previous topics will be merged into this new topic We wish you exciting discussions. Best regards from the BRIGITTE Community Team\\\\\n",
       "\t Since the topic has slipped further to the back due to the rebuild, we are pushing it forward again this way. We wish you exciting discussions. Best regards from the BRIGITTE Community Team                                                                                                                                                                \\\\\n",
       "\\end{tabular}\n"
      ],
      "text/markdown": [
       "\n",
       "A tibble: 2 × 1\n",
       "\n",
       "| text &lt;chr&gt; |\n",
       "|---|\n",
       "| Dear users, in addition to questions about childcare, daycare centers or home schooling, there should also be room here for other family topics such as dealing with relatives in retirement homes. Here you can see which previous topics will be merged into this new topic We wish you exciting discussions. Best regards from the BRIGITTE Community Team |\n",
       "| Since the topic has slipped further to the back due to the rebuild, we are pushing it forward again this way. We wish you exciting discussions. Best regards from the BRIGITTE Community Team                                                                                                                                                                 |\n",
       "\n"
      ],
      "text/plain": [
       "  text                                                                                                                                                                                                                                                                                                                                                         \n",
       "1 Dear users, in addition to questions about childcare, daycare centers or home schooling, there should also be room here for other family topics such as dealing with relatives in retirement homes. Here you can see which previous topics will be merged into this new topic We wish you exciting discussions. Best regards from the BRIGITTE Community Team\n",
       "2 Since the topic has slipped further to the back due to the rebuild, we are pushing it forward again this way. We wish you exciting discussions. Best regards from the BRIGITTE Community Team                                                                                                                                                                "
      ]
     },
     "metadata": {},
     "output_type": "display_data"
    }
   ],
   "source": [
    "# Deepl\n",
    "trans1000 <- readRDS(here(\"data/trans_1000.rds\"))\n",
    "trans1000[1:2, 2]"
   ]
  },
  {
   "cell_type": "markdown",
   "metadata": {},
   "source": [
    "> Decide to send paragraph to Deepl for translation! "
   ]
  },
  {
   "attachments": {},
   "cell_type": "markdown",
   "metadata": {
    "jp-MarkdownHeadingCollapsed": true,
    "tags": []
   },
   "source": [
    "## API from DeepL\n",
    "\n",
    "> Turn out it is too expensive compare to translate with app -- Sublime Text!"
   ]
  },
  {
   "cell_type": "code",
   "execution_count": 5,
   "metadata": {
    "tags": [],
    "vscode": {
     "languageId": "r"
    }
   },
   "outputs": [],
   "source": [
    "trans <- function(\n",
    "    txt = \"Hi\", \n",
    "    key = \"DeepL-Auth-Key ecb051f6-fd49-ac5a-5a96-90beb841f4d7:fx\",\n",
    "    url = \"https://api-free.deepl.com/v2/translate\", \n",
    "    in_lang = \"DE\", \n",
    "    out_lang = \"EN\"\n",
    "    ) {\n",
    "    out <- httr::POST(\n",
    "        url = url,\n",
    "        config = httr::add_headers(Authorization = key),\n",
    "        body = list(text = txt, target_lang = out_lang, source_lang = in_lang)\n",
    "    )\n",
    "    tibble::tibble(\n",
    "        code = httr::status_code(out),\n",
    "        text = httr::content(out)$translations[[1]]$text\n",
    "    )\n",
    "}"
   ]
  },
  {
   "attachments": {},
   "cell_type": "markdown",
   "metadata": {
    "jp-MarkdownHeadingCollapsed": true,
    "tags": []
   },
   "source": [
    "### Translate with free API (500K)"
   ]
  },
  {
   "cell_type": "code",
   "execution_count": 23,
   "metadata": {
    "vscode": {
     "languageId": "r"
    }
   },
   "outputs": [],
   "source": [
    "# trans1000 <- map_dfr(forum$text2[1L:1000], trans)"
   ]
  },
  {
   "cell_type": "code",
   "execution_count": 24,
   "metadata": {
    "tags": [],
    "vscode": {
     "languageId": "r"
    }
   },
   "outputs": [
    {
     "data": {
      "text/html": [
       "1182"
      ],
      "text/latex": [
       "1182"
      ],
      "text/markdown": [
       "1182"
      ],
      "text/plain": [
       "[1] 1182"
      ]
     },
     "metadata": {},
     "output_type": "display_data"
    }
   ],
   "source": [
    "forum$text2 %>%\n",
    "    unname() %>%\n",
    "    nchar() %>%\n",
    "    tibble(n = .) %>%\n",
    "    mutate(ns = cumsum(n)) %>%\n",
    "    filter(ns < 499413) %>%\n",
    "    nrow()\n",
    "# trans1000 <- readRDS(here(\"data/trans1000.rds\"))"
   ]
  },
  {
   "attachments": {},
   "cell_type": "markdown",
   "metadata": {
    "tags": []
   },
   "source": [
    "### Premium API"
   ]
  },
  {
   "cell_type": "markdown",
   "metadata": {},
   "source": [
    "For safety, save every 1000 rows!"
   ]
  },
  {
   "cell_type": "code",
   "execution_count": 6,
   "metadata": {
    "tags": [],
    "vscode": {
     "languageId": "r"
    }
   },
   "outputs": [],
   "source": [
    "trans <- function(txt = \"Hi\") {\n",
    "    mykey = \"DeepL-Auth-Key 46cd9f89-9e38-e486-3c17-670e2333fc92\"\n",
    "    url = \"https://api.deepl.com/v2/translate\" \n",
    "    out <- httr::POST(\n",
    "        url = url,\n",
    "        config = httr::add_headers(Authorization = mykey),\n",
    "        body = list(text = txt, target_lang = \"EN\", source_lang = \"DE\")\n",
    "    )\n",
    "    if (httr::status_code(out) == 200) {\n",
    "        translated <- httr::content(out)$translations[[1]]$text\n",
    "    } else {\n",
    "        translated <- \"FAIL\"\n",
    "    }\n",
    "    tibble::tibble(code = httr::status_code(out), text = translated)\n",
    "}"
   ]
  },
  {
   "cell_type": "markdown",
   "metadata": {},
   "source": [
    "Named for `map` function"
   ]
  },
  {
   "cell_type": "code",
   "execution_count": 5,
   "metadata": {
    "tags": [],
    "vscode": {
     "languageId": "r"
    }
   },
   "outputs": [],
   "source": [
    "input <- forum$text2\n",
    "names(input) <- forum$id"
   ]
  },
  {
   "cell_type": "code",
   "execution_count": 6,
   "metadata": {
    "tags": [],
    "vscode": {
     "languageId": "r"
    }
   },
   "outputs": [
    {
     "data": {
      "text/html": [
       "<style>\n",
       ".list-inline {list-style: none; margin:0; padding: 0}\n",
       ".list-inline>li {display: inline-block}\n",
       ".list-inline>li:not(:last-child)::after {content: \"\\00b7\"; padding: 0 .5ex}\n",
       "</style>\n",
       "<ol class=list-inline><li>1001</li><li>2001</li><li>3001</li><li>4001</li><li>5001</li><li>6001</li><li>7001</li><li>8001</li><li>9001</li><li>10001</li><li>11001</li></ol>\n"
      ],
      "text/latex": [
       "\\begin{enumerate*}\n",
       "\\item 1001\n",
       "\\item 2001\n",
       "\\item 3001\n",
       "\\item 4001\n",
       "\\item 5001\n",
       "\\item 6001\n",
       "\\item 7001\n",
       "\\item 8001\n",
       "\\item 9001\n",
       "\\item 10001\n",
       "\\item 11001\n",
       "\\end{enumerate*}\n"
      ],
      "text/markdown": [
       "1. 1001\n",
       "2. 2001\n",
       "3. 3001\n",
       "4. 4001\n",
       "5. 5001\n",
       "6. 6001\n",
       "7. 7001\n",
       "8. 8001\n",
       "9. 9001\n",
       "10. 10001\n",
       "11. 11001\n",
       "\n",
       "\n"
      ],
      "text/plain": [
       " [1]  1001  2001  3001  4001  5001  6001  7001  8001  9001 10001 11001"
      ]
     },
     "metadata": {},
     "output_type": "display_data"
    },
    {
     "data": {
      "text/html": [
       "<style>\n",
       ".list-inline {list-style: none; margin:0; padding: 0}\n",
       ".list-inline>li {display: inline-block}\n",
       ".list-inline>li:not(:last-child)::after {content: \"\\00b7\"; padding: 0 .5ex}\n",
       "</style>\n",
       "<ol class=list-inline><li>2000</li><li>3000</li><li>4000</li><li>5000</li><li>6000</li><li>7000</li><li>8000</li><li>9000</li><li>10000</li><li>11000</li><li>11208</li></ol>\n"
      ],
      "text/latex": [
       "\\begin{enumerate*}\n",
       "\\item 2000\n",
       "\\item 3000\n",
       "\\item 4000\n",
       "\\item 5000\n",
       "\\item 6000\n",
       "\\item 7000\n",
       "\\item 8000\n",
       "\\item 9000\n",
       "\\item 10000\n",
       "\\item 11000\n",
       "\\item 11208\n",
       "\\end{enumerate*}\n"
      ],
      "text/markdown": [
       "1. 2000\n",
       "2. 3000\n",
       "3. 4000\n",
       "4. 5000\n",
       "5. 6000\n",
       "6. 7000\n",
       "7. 8000\n",
       "8. 9000\n",
       "9. 10000\n",
       "10. 11000\n",
       "11. 11208\n",
       "\n",
       "\n"
      ],
      "text/plain": [
       " [1]  2000  3000  4000  5000  6000  7000  8000  9000 10000 11000 11208"
      ]
     },
     "metadata": {},
     "output_type": "display_data"
    }
   ],
   "source": [
    "a <- seq(1001, length(input), 1000)\n",
    "z <- c(seq(2000, length(input), 1000), length(input))\n",
    "a\n",
    "z"
   ]
  },
  {
   "cell_type": "code",
   "execution_count": null,
   "metadata": {
    "tags": [],
    "vscode": {
     "languageId": "r"
    }
   },
   "outputs": [],
   "source": [
    "i = 2\n",
    "# tmp <- purrr::map_dfr(input[a[2]:z[2]], trans)\n",
    "# head(tmp)"
   ]
  },
  {
   "cell_type": "code",
   "execution_count": 14,
   "metadata": {
    "vscode": {
     "languageId": "r"
    }
   },
   "outputs": [],
   "source": [
    "saveRDS(tmp, here(\"data/\", \"trans_1001_2000.rds\"))\n",
    "# saveRDS(o, here(\"data/\", paste0(name, \".rds\")))"
   ]
  },
  {
   "cell_type": "code",
   "execution_count": null,
   "metadata": {
    "vscode": {
     "languageId": "r"
    }
   },
   "outputs": [],
   "source": [
    "# translate and save\n",
    "for (i in 1:length(a)) {\n",
    "    name <- paste(\"trans\", a[i], z[i], sep = \"_\")\n",
    "    cat(name, '...\\n')\n",
    "    o <- purrr::map_dfr(input[a[i]:z[i]], trans)\n",
    "    saveRDS(o, here(\"data/\", paste0(name, \".rds\")))\n",
    "}"
   ]
  },
  {
   "cell_type": "markdown",
   "metadata": {},
   "source": [
    "## Change to not API - cheaper\n",
    "\n",
    "- split to txt with <1Mb file"
   ]
  },
  {
   "cell_type": "code",
   "execution_count": 13,
   "metadata": {
    "vscode": {
     "languageId": "r"
    }
   },
   "outputs": [
    {
     "data": {
      "text/html": [
       "11208"
      ],
      "text/latex": [
       "11208"
      ],
      "text/markdown": [
       "11208"
      ],
      "text/plain": [
       "[1] 11208"
      ]
     },
     "metadata": {},
     "output_type": "display_data"
    }
   ],
   "source": [
    "nrow(forum)"
   ]
  },
  {
   "cell_type": "code",
   "execution_count": 7,
   "metadata": {
    "vscode": {
     "languageId": "r"
    }
   },
   "outputs": [],
   "source": [
    "write.csv(forum$text2[1:2000], here('data', 'text2000.txt'), row.names = FALSE)"
   ]
  },
  {
   "cell_type": "code",
   "execution_count": 8,
   "metadata": {
    "vscode": {
     "languageId": "r"
    }
   },
   "outputs": [],
   "source": [
    "write.csv(forum$text2[2001:4000], here('data', 'text4000.txt'), row.names = FALSE)"
   ]
  },
  {
   "cell_type": "code",
   "execution_count": 9,
   "metadata": {
    "vscode": {
     "languageId": "r"
    }
   },
   "outputs": [],
   "source": [
    "write.csv(forum$text2[4001:6000], here('data', 'text6000.txt'), row.names = FALSE)"
   ]
  },
  {
   "cell_type": "code",
   "execution_count": 17,
   "metadata": {
    "vscode": {
     "languageId": "r"
    }
   },
   "outputs": [],
   "source": [
    "write.csv(forum$text2[6001:7500], here('data', 'text7500.txt'), row.names = FALSE)"
   ]
  },
  {
   "cell_type": "code",
   "execution_count": 19,
   "metadata": {
    "vscode": {
     "languageId": "r"
    }
   },
   "outputs": [],
   "source": [
    "write.csv(forum$text2[7501:9500], here('data', 'text9500.txt'), row.names = FALSE)"
   ]
  },
  {
   "cell_type": "code",
   "execution_count": 20,
   "metadata": {
    "vscode": {
     "languageId": "r"
    }
   },
   "outputs": [],
   "source": [
    "write.csv(forum$text2[9501:11208], here('data', 'text11208.txt'), row.names = FALSE)"
   ]
  },
  {
   "cell_type": "markdown",
   "metadata": {},
   "source": [
    "These files are then drag and drop into DeepL."
   ]
  },
  {
   "attachments": {},
   "cell_type": "markdown",
   "metadata": {},
   "source": [
    "## Collecting Deepl translated text"
   ]
  },
  {
   "cell_type": "code",
   "execution_count": 22,
   "metadata": {
    "vscode": {
     "languageId": "r"
    }
   },
   "outputs": [],
   "source": [
    "library(readr)\n",
    "pth <- list.files(here(\"data\"), \"American\", full.names = T)\n",
    "pth <- pth[c(2, 3, 4, 5, 6, 1)]\n"
   ]
  },
  {
   "cell_type": "code",
   "execution_count": 23,
   "metadata": {
    "vscode": {
     "languageId": "r"
    }
   },
   "outputs": [],
   "source": [
    "name <- basename(pth) %>% stringr::word()\n",
    "names(pth) <- name\n",
    "txt <- map(pth, read_lines, skip = 1)"
   ]
  },
  {
   "cell_type": "code",
   "execution_count": 25,
   "metadata": {
    "vscode": {
     "languageId": "r"
    }
   },
   "outputs": [],
   "source": [
    "tlt <- lapply(txt, as_tibble) %>% bind_rows(.id = 'src')"
   ]
  },
  {
   "cell_type": "code",
   "execution_count": 28,
   "metadata": {
    "vscode": {
     "languageId": "r"
    }
   },
   "outputs": [],
   "source": [
    "forum <- forum %>% bind_cols(tlt)\n",
    "saveRDS(forum, here('data', 'forum_tlt.rds'))"
   ]
  }
 ],
 "metadata": {
  "kernelspec": {
   "display_name": "R",
   "language": "R",
   "name": "ir"
  },
  "language_info": {
   "codemirror_mode": "r",
   "file_extension": ".r",
   "mimetype": "text/x-r-source",
   "name": "R",
   "pygments_lexer": "r",
   "version": "4.2.2"
  },
  "vscode": {
   "interpreter": {
    "hash": "fd68bbe49f8e5a5198b3bacf111fe607cdbd3b5ce3f47171f8eca2b2f1243bb9"
   }
  }
 },
 "nbformat": 4,
 "nbformat_minor": 4
}
